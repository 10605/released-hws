{
 "cells": [
  {
   "cell_type": "markdown",
   "metadata": {},
   "source": [
    "# CMU auto-graded notebook\n",
    "\n",
    "Before you turn these assignments in, make sure everything runs as expected. First, **restart the kernel** (in the menubar, select Kernel$\\rightarrow$Restart) and then **run all cells** (in the menubar, select Cell$\\rightarrow$Run All).\n",
    "\n",
    "Make sure you fill in any place that says `YOUR CODE HERE` or \"YOUR ANSWER HERE.\""
   ]
  },
  {
   "cell_type": "markdown",
   "metadata": {},
   "source": [
    "---"
   ]
  },
  {
   "cell_type": "markdown",
   "metadata": {
    "application/vnd.databricks.v1+cell": {
     "inputWidgets": {},
     "nuid": "f6ebf379-e851-40fd-b9d7-349d7b34ea78",
     "showTitle": false,
     "title": ""
    }
   },
   "source": [
    "# CMU Machine Learning with Large Datasets"
   ]
  },
  {
   "cell_type": "markdown",
   "metadata": {
    "application/vnd.databricks.v1+cell": {
     "inputWidgets": {},
     "nuid": "d59fdd6c-c0bc-43db-8eab-59f5216ec16f",
     "showTitle": false,
     "title": ""
    }
   },
   "source": [
    "## Homework 1 - Coding 2: Machine Learning Pipeline"
   ]
  },
  {
   "cell_type": "markdown",
   "metadata": {
    "application/vnd.databricks.v1+cell": {
     "inputWidgets": {},
     "nuid": "6548df22-3cd7-472d-9450-d0ab7181fdc5",
     "showTitle": false,
     "title": ""
    }
   },
   "source": [
    "#CMU 10405/10605 Machine Learning with Large Datasets\n",
    "\n",
    "## Homework 1: ML Pipeline"
   ]
  },
  {
   "cell_type": "code",
   "execution_count": null,
   "metadata": {
    "application/vnd.databricks.v1+cell": {
     "inputWidgets": {},
     "nuid": "d39f734d-a67b-48dd-91b7-07576d52b907",
     "showTitle": false,
     "title": ""
    },
    "deletable": false,
    "nbgrader": {
     "cell_type": "code",
     "checksum": "fe60cd9540617cc2e184126ec775bb7a",
     "grade": false,
     "grade_id": "collaborators",
     "locked": false,
     "schema_version": 3,
     "solution": true,
     "task": false
    }
   },
   "outputs": [],
   "source": [
    "# Who did you collaborate with on this assignment? \n",
    "# if no one, collaborators should contain an empty string,\n",
    "# else list your collaborators below\n",
    "\n",
    "# collaborators = [\"\"]\n",
    "# YOUR CODE HERE\n",
    "raise NotImplementedError()"
   ]
  },
  {
   "cell_type": "code",
   "execution_count": null,
   "metadata": {
    "application/vnd.databricks.v1+cell": {
     "inputWidgets": {},
     "nuid": "1e37cb9a-aaa4-4036-8ad4-cce66ab49671",
     "showTitle": false,
     "title": ""
    },
    "deletable": false,
    "editable": false,
    "nbgrader": {
     "cell_type": "code",
     "checksum": "f54ae57e9a1f313ebc29585444e1d282",
     "grade": true,
     "grade_id": "collaborators_test",
     "locked": true,
     "points": 0,
     "schema_version": 3,
     "solution": false,
     "task": false
    }
   },
   "outputs": [],
   "source": [
    "try:\n",
    "    collaborators\n",
    "except:\n",
    "    raise AssertionError(\"you did not list your collaborators, if any\")   "
   ]
  },
  {
   "cell_type": "code",
   "execution_count": null,
   "metadata": {
    "application/vnd.databricks.v1+cell": {
     "inputWidgets": {},
     "nuid": "3b608000-a69b-4e52-8f2e-0f2ce81b2e7b",
     "showTitle": false,
     "title": ""
    }
   },
   "outputs": [],
   "source": [
    "# YOU CAN MOST LIKELY IGNORE THIS CELL. This is only of use for running this notebook locally.\n",
    "\n",
    "# THIS CELL DOES NOT NEED TO BE RUN ON DATABRICKS. \n",
    "# Note that Databricks already creates a SparkContext for you, so this cell can be skipped.\n",
    "import findspark\n",
    "findspark.init()\n",
    "import pyspark\n",
    "from pyspark.sql import SQLContext\n",
    "sc = pyspark.SparkContext(appName=\"hw\")\n",
    "sqlContext = SQLContext(sc)\n",
    "\n",
    "print(\"spark context started\")"
   ]
  },
  {
   "cell_type": "markdown",
   "metadata": {
    "application/vnd.databricks.v1+cell": {
     "inputWidgets": {},
     "nuid": "0de4e9ea-3cd2-46b1-a955-049ffd9f833b",
     "showTitle": false,
     "title": ""
    }
   },
   "source": [
    "# 2. Power Plant Machine Learning Pipeline Application\n",
    "This section is an end-to-end exercise of performing Extract-Transform-Load and Exploratory Data Analysis on a real-world dataset, and then applying several different machine learning algorithms to solve a supervised regression problem on the dataset.\n",
    "\n",
    "** This excercise covers: **\n",
    "* *Part 1: Business Understanding*\n",
    "* *Part 2: Load Your Data*\n",
    "* *Part 3: Explore Your Data*\n",
    "* *Part 4: Visualize Your Data*\n",
    "* *Part 5: Data Preparation*\n",
    "* *Part 6: Data Modeling*\n",
    "* *Part 7: Tuning and Evaluation*\n",
    "\n",
    "*Our goal is to accurately predict power output given a set of environmental readings from various sensors in a natural gas-fired power generation plant.*"
   ]
  },
  {
   "cell_type": "markdown",
   "metadata": {
    "application/vnd.databricks.v1+cell": {
     "inputWidgets": {},
     "nuid": "c895b175-0d81-4ab0-97d2-6a0fa9eff818",
     "showTitle": false,
     "title": ""
    }
   },
   "source": [
    "## Part 1: Business Understanding\n",
    "\n",
    "** Background **\n",
    "\n",
    "Power generation is a complex process, and understanding and predicting power output is an important element in managing a plant and its connection to the power grid. The operators of a regional power grid create predictions of power demand based on historical information and environmental factors (e.g., temperature). They then compare the predictions against available resources (e.g., coal, natural gas, nuclear, solar, wind, hydro power plants). Power generation technologies such as solar and wind are highly dependent on environmental conditions, and all generation technologies are subject to planned and unplanned maintenance.\n",
    "\n",
    "Here is an real-world example of predicted demand (on two time scales), actual demand, and available resources from the California power grid: http://www.caiso.com/Pages/TodaysOutlook.aspx\n",
    "\n",
    "![](http://content.caiso.com/outlook/SP/ems_small.gif)\n",
    "\n",
    "The challenge for a power grid operator is how to handle a shortfall in available resources versus actual demand. There are three solutions to  a power shortfall: build more base load power plants (this process can take many years to decades of planning and construction), buy and import power from other regional power grids (this choice can be very expensive and is limited by the power transmission interconnects between grids and the excess power available from other grids), or turn on small [Peaker or Peaking Power Plants](https://en.wikipedia.org/wiki/Peaking_power_plant). Because grid operators need to respond quickly to a power shortfall to avoid a power outage, grid operators rely on a combination of the last two choices. In this exercise, we'll focus on the last choice.\n",
    "\n",
    "** The Business Problem **\n",
    "\n",
    "Because they supply power only occasionally, the power supplied by a peaker power plant commands a much higher price per kilowatt hour than power from a power grid's base power plants. A peaker plant may operate many hours a day, or it may operate only a few hours per year, depending on the condition of the region's electrical grid. Because of the cost of building an efficient power plant, if a peaker plant is only going to be run for a short or highly variable time it does not make economic sense to make it as efficient as a base load power plant. In addition, the equipment and fuels used in base load plants are often unsuitable for use in peaker plants because the fluctuating conditions would severely strain the equipment.\n",
    "\n",
    "The power output of a peaker power plant varies depending on environmental conditions, so the business problem is _predicting the power output of a peaker power plant as a function of the environmental conditions_ -- since this would enable the grid operator to make economic tradeoffs about the number of peaker plants to turn on (or whether to buy expensive power from another grid).\n",
    "\n",
    "Given this business problem, we need to first perform Exploratory Data Analysis to understand the data and then translate the business problem (predicting power output as a function of envionmental conditions) into a Machine Learning task.  In this instance, the ML task is regression since the label (or target) we are trying to predict is numeric. We will use an [Apache Spark ML Pipeline](https://spark.apache.org/docs/1.6.2/api/python/pyspark.ml.html#pyspark-ml-package) to perform the regression.\n",
    "\n",
    "The real-world data we are using in this notebook consists of 9,568 data points, each with 4 environmental attributes collected from a Combined Cycle Power Plant over 6 years (2006-2011), and is provided by the University of California, Irvine at [UCI Machine Learning Repository Combined Cycle Power Plant Data Set](https://archive.ics.uci.edu/ml/datasets/Combined+Cycle+Power+Plant). You can find more details about the dataset on the UCI page, including the following background publications:\n",
    "* Pinar Tüfekci, [Prediction of full load electrical power output of a base load operated combined cycle power plant using machine learning methods](http://www.journals.elsevier.com/international-journal-of-electrical-power-and-energy-systems/), International Journal of Electrical Power & Energy Systems, Volume 60, September 2014, Pages 126-140, ISSN 0142-0615.\n",
    "* Heysem Kaya, Pinar Tüfekci and Fikret S. Gürgen: [Local and Global Learning Methods for Predicting Power of a Combined Gas & Steam Turbine](http://www.cmpe.boun.edu.tr/~kaya/kaya2012gasturbine.pdf), Proceedings of the International Conference on Emerging Trends in Computer and Electronics Engineering ICETCEE 2012, pp. 13-18 (Mar. 2012, Dubai).\n",
    "\n",
    "**To Do**: Read the documentation and examples for [Spark Machine Learning Pipeline](https://spark.apache.org/docs/1.6.2/ml-guide.html#main-concepts-in-pipelines).\n",
    "\n",
    "As described in the overview we are trying to predict power output given a set of readings from various sensors in a gas-fired power generation plant. The problem is a regression problem since the label (or target) we are trying to predict is numeric."
   ]
  },
  {
   "cell_type": "markdown",
   "metadata": {
    "application/vnd.databricks.v1+cell": {
     "inputWidgets": {},
     "nuid": "615391b4-0234-44d3-981f-4ae7427bf5b4",
     "showTitle": false,
     "title": ""
    }
   },
   "source": [
    "## Part 2: Extract-Transform-Load (ETL) Your Data\n",
    "\n",
    "Now that we understand what we are trying to do, the first step is to load our data into a format we can query and use.  This is known as ETL or \"Extract-Transform-Load\".  We will load our file from Amazon S3.\n",
    "\n",
    "Note: Alternatively we could upload our data using \"Databricks Menu > Tables > Create Table\", assuming we had the raw files on our local computer.\n",
    "\n",
    "Our data is available on Amazon s3 at the following path:\n",
    "\n",
    "```\n",
    "dbfs:/databricks-datasets/power-plant/data\n",
    "```\n",
    "\n",
    "**To Do:** Let's start by printing a sample of the data.\n",
    "\n",
    "We'll use the built-in Databricks functions for exploring the Databricks filesystem (DBFS)\n",
    "\n",
    "Use `display(dbutils.fs.ls(\"/databricks-datasets/power-plant/data\"))` to list the files in the directory"
   ]
  },
  {
   "cell_type": "code",
   "execution_count": null,
   "metadata": {
    "application/vnd.databricks.v1+cell": {
     "inputWidgets": {},
     "nuid": "64a069fa-eb4b-428b-8ef6-40009e5b09f5",
     "showTitle": false,
     "title": ""
    }
   },
   "outputs": [],
   "source": [
    "# Uncomment the following code to run it in databricks\n",
    "\n",
    "# display(dbutils.fs.ls(\"/databricks-datasets/power-plant/data\"))"
   ]
  },
  {
   "cell_type": "markdown",
   "metadata": {
    "application/vnd.databricks.v1+cell": {
     "inputWidgets": {},
     "nuid": "f862fada-7c8e-48de-b8f0-79948129ccd7",
     "showTitle": false,
     "title": ""
    }
   },
   "source": [
    "Next, use the `dbutils.fs.head` command to look at the first 65,536 bytes of the first file in the directory.\n",
    "\n",
    "Use `print dbutils.fs.head(\"/databricks-datasets/power-plant/data/Sheet1.tsv\")` to list the files in the directory"
   ]
  },
  {
   "cell_type": "code",
   "execution_count": null,
   "metadata": {
    "application/vnd.databricks.v1+cell": {
     "inputWidgets": {},
     "nuid": "a712c9d1-6082-4d64-aa92-60e67c69f2a8",
     "showTitle": false,
     "title": ""
    }
   },
   "outputs": [],
   "source": [
    "# print (dbutils.fs.head(\"/databricks-datasets/power-plant/data/Sheet1.tsv\"))"
   ]
  },
  {
   "cell_type": "markdown",
   "metadata": {
    "application/vnd.databricks.v1+cell": {
     "inputWidgets": {},
     "nuid": "d880eab9-d8c8-4cd3-b2d5-1f5302758d26",
     "showTitle": false,
     "title": ""
    }
   },
   "source": [
    "`dbutils.fs` has its own help facility, which we can use to see the various available functions."
   ]
  },
  {
   "cell_type": "code",
   "execution_count": null,
   "metadata": {
    "application/vnd.databricks.v1+cell": {
     "inputWidgets": {},
     "nuid": "166d6153-1d07-462b-bd0b-a39acea6e7a6",
     "showTitle": false,
     "title": ""
    }
   },
   "outputs": [],
   "source": [
    "# dbutils.fs.help()"
   ]
  },
  {
   "cell_type": "markdown",
   "metadata": {
    "application/vnd.databricks.v1+cell": {
     "inputWidgets": {},
     "nuid": "9d252264-4444-45f6-8744-061affcdf787",
     "showTitle": false,
     "title": ""
    }
   },
   "source": [
    "### Exercise 2(a)\n",
    "\n",
    "Now, let's use PySpark instead to print the first 5 lines of the data.\n",
    "\n",
    "*Hint*: First create an RDD from the data by using [`sc.textFile(\"dbfs:/databricks-datasets/power-plant/data\")`](https://spark.apache.org/docs/1.6.2/api/python/pyspark.html#pyspark.SparkContext.textFile) to read the data into an RDD.\n"
   ]
  },
  {
   "cell_type": "code",
   "execution_count": null,
   "metadata": {
    "application/vnd.databricks.v1+cell": {
     "inputWidgets": {},
     "nuid": "241dcd2c-bc03-480e-bcc8-5e206727b3ac",
     "showTitle": false,
     "title": ""
    },
    "deletable": false,
    "nbgrader": {
     "cell_type": "code",
     "checksum": "1e5add1b859f762412c37b3659b78d51",
     "grade": false,
     "grade_id": "create_rdd",
     "locked": false,
     "schema_version": 3,
     "solution": true,
     "task": false
    }
   },
   "outputs": [],
   "source": [
    "# TODO: Uncomment the line below and replace <FILL IN> with appropriate code to print the data\n",
    "\n",
    "url = \"https://raw.githubusercontent.com/10605/data/master/hw2/Sheet\"\n",
    "\n",
    "from pyspark import SparkFiles\n",
    "sc.addFile(url+\"1.tsv\"); sc.addFile(url+\"2.tsv\"); sc.addFile(url+\"3.tsv\"); sc.addFile(url+\"4.tsv\"); sc.addFile(url+\"5.tsv\")\n",
    "\n",
    "# rawTextRdd = sc.textFile(\"file://\" + SparkFiles.getRootDirectory(), 8)\n",
    "rawTextRdd1 = sc.textFile(SparkFiles.get(\"Sheet1.tsv\"), 8)\n",
    "rawTextRdd2 = sc.textFile(SparkFiles.get(\"Sheet2.tsv\"), 8)\n",
    "rawTextRdd3 = sc.textFile(SparkFiles.get(\"Sheet3.tsv\"), 8)\n",
    "rawTextRdd4 = sc.textFile(SparkFiles.get(\"Sheet4.tsv\"), 8)\n",
    "rawTextRdd5 = sc.textFile(SparkFiles.get(\"Sheet5.tsv\"), 8)\n",
    "rawTextRdd = rawTextRdd1.union(rawTextRdd2).union(rawTextRdd3).union(rawTextRdd4).union(rawTextRdd5)\n",
    "\n",
    "# # Print the first five lines\n",
    "# <FILL_IN>\n",
    "# YOUR CODE HERE\n",
    "raise NotImplementedError()\n",
    "\n"
   ]
  },
  {
   "cell_type": "markdown",
   "metadata": {
    "application/vnd.databricks.v1+cell": {
     "inputWidgets": {},
     "nuid": "3d56268c-e275-4866-a5d6-5aae3bad9a7c",
     "showTitle": false,
     "title": ""
    }
   },
   "source": [
    "From our initial exploration of a sample of the data, we can make several observations for the ETL process:\n",
    "  - The data is a set of .tsv (Tab Seperated Values) files (i.e., each row of the data is separated using tabs)\n",
    "  - There is a header row, which is the name of the columns\n",
    "  - It looks like the type of the data in each column is consistent (i.e., each column is of type double)\n",
    "\n",
    "Our schema definition from UCI appears below:\n",
    "- AT = Atmospheric Temperature in C\n",
    "- V = Exhaust Vacuum Speed\n",
    "- AP = Atmospheric Pressure\n",
    "- RH = Relative Humidity\n",
    "- PE = Power Output.  This is the value we are trying to predict given the measurements above.\n",
    "\n",
    "We are ready to create a DataFrame from the TSV data. Spark does not have a native method for performing this operation, however we can use [spark-csv](https://spark-packages.org/package/databricks/spark-csv), a third-party package from [SparkPackages](https://spark-packages.org/). The documentation and source code for [spark-csv](https://spark-packages.org/package/databricks/spark-csv) can be found on [GitHub](https://github.com/databricks/spark-csv). The Python API can be found [here](https://github.com/databricks/spark-csv#python-api).\n",
    "\n",
    "(**Note**: In Spark 2.0, the CSV package is built into the DataFrame API.)\n",
    "\n",
    "To use the [spark-csv](https://spark-packages.org/package/databricks/spark-csv) package, we use the [sqlContext.read.format()](https://spark.apache.org/docs/1.6.2/api/python/pyspark.sql.html#pyspark.sql.DataFrameReader.format) method to specify the input data source format: `'com.databricks.spark.csv'`\n",
    "\n",
    "We can provide the [spark-csv](https://spark-packages.org/package/databricks/spark-csv) package with options using the [options()](https://spark.apache.org/docs/1.6.2/api/python/pyspark.sql.html#pyspark.sql.DataFrameReader.options) method. The available options are listed in the GitHub documentation [here](https://github.com/databricks/spark-csv#features).\n",
    "\n",
    "We will use the following three options:\n",
    "- `delimiter` because our data is tab delimited\n",
    "- `header` because our data has a header row\n",
    "- `inferschema` because we believe that all of the data is double values, so the package can dynamically infer the type of each column. *Note that this will require two pass over the data.*\n",
    "\n",
    "\n",
    "The last component of creating the DataFrame is to specify the location of the data source using the [load()](https://spark.apache.org/docs/1.6.2/api/python/pyspark.sql.html#pyspark.sql.DataFrameReader.load) method: `\"/databricks-datasets/power-plant/data\"`\n",
    "\n",
    "Putting everything together, we will use an operation of the following form:\n",
    "\n",
    "  `sqlContext.read.format().options().load()`\n",
    "\n",
    "### Exercise 2(b)\n",
    "\n",
    "**To Do:** Create a DataFrame from the data.\n",
    "\n",
    "*Hint:* Use the above template and fill in each of the methods."
   ]
  },
  {
   "cell_type": "code",
   "execution_count": null,
   "metadata": {
    "application/vnd.databricks.v1+cell": {
     "inputWidgets": {},
     "nuid": "d48daa87-b5d2-4cea-8d2a-6e7fbd103308",
     "showTitle": false,
     "title": ""
    },
    "deletable": false,
    "nbgrader": {
     "cell_type": "code",
     "checksum": "dc30a3326344f83906e8bf631f9e948f",
     "grade": false,
     "grade_id": "read_csv",
     "locked": false,
     "schema_version": 3,
     "solution": true,
     "task": false
    }
   },
   "outputs": [],
   "source": [
    "# TODO: Uncoment the line below and replace <FILL_IN> with the appropriate code.\n",
    "# powerPlantDF = sqlContext.read.format('com.databricks.spark.csv').options(<FILL_IN>).load(SparkFiles.getRootDirectory())\n",
    "\n",
    "# YOUR CODE HERE\n",
    "raise NotImplementedError()"
   ]
  },
  {
   "cell_type": "code",
   "execution_count": null,
   "metadata": {
    "application/vnd.databricks.v1+cell": {
     "inputWidgets": {},
     "nuid": "aa2beba4-12e3-4adb-a3b5-fe160783403d",
     "showTitle": false,
     "title": ""
    },
    "deletable": false,
    "editable": false,
    "nbgrader": {
     "cell_type": "code",
     "checksum": "76baeb3689c9bd7050a4a1bc5a31b258",
     "grade": true,
     "grade_id": "read_csv_test",
     "locked": true,
     "points": 2,
     "schema_version": 3,
     "solution": false,
     "task": false
    }
   },
   "outputs": [],
   "source": [
    "# TEST\n",
    "from nose.tools import assert_equal, assert_true\n",
    "expected = set([(s, 'double') for s in ('AP', 'AT', 'PE', 'RH', 'V')])\n",
    "print(powerPlantDF.dtypes)\n",
    "#assert_equal(expected, set(powerPlantDF.dtypes), \"Incorrect schema for powerPlantDF\")"
   ]
  },
  {
   "cell_type": "markdown",
   "metadata": {
    "application/vnd.databricks.v1+cell": {
     "inputWidgets": {},
     "nuid": "d84004ce-83e3-4bb0-979f-727f397e371d",
     "showTitle": false,
     "title": ""
    }
   },
   "source": [
    "Check the names and types of the columns using the [dtypes](https://spark.apache.org/docs/1.6.2/api/python/pyspark.sql.html#pyspark.sql.DataFrame.dtypes) method."
   ]
  },
  {
   "cell_type": "code",
   "execution_count": null,
   "metadata": {
    "application/vnd.databricks.v1+cell": {
     "inputWidgets": {},
     "nuid": "f0c46f99-e41c-4bff-9624-f68dbc9ca06b",
     "showTitle": false,
     "title": ""
    }
   },
   "outputs": [],
   "source": [
    "print (powerPlantDF.dtypes)"
   ]
  },
  {
   "cell_type": "markdown",
   "metadata": {
    "application/vnd.databricks.v1+cell": {
     "inputWidgets": {},
     "nuid": "385cd857-b6e0-4c95-b479-4b9a8cbf8b86",
     "showTitle": false,
     "title": ""
    }
   },
   "source": [
    "We can examine the data using the display() method."
   ]
  },
  {
   "cell_type": "code",
   "execution_count": null,
   "metadata": {
    "application/vnd.databricks.v1+cell": {
     "inputWidgets": {},
     "nuid": "02a0a08a-dd1c-40a3-9a76-90d2e9ecb610",
     "showTitle": false,
     "title": ""
    }
   },
   "outputs": [],
   "source": [
    "# display(powerPlantDF)"
   ]
  },
  {
   "cell_type": "markdown",
   "metadata": {
    "application/vnd.databricks.v1+cell": {
     "inputWidgets": {},
     "nuid": "bd56f373-69ae-47af-9128-363aed1402e4",
     "showTitle": false,
     "title": ""
    }
   },
   "source": [
    "### Exercise 2(c)\n",
    "\n",
    "Instead of having [spark-csv](https://spark-packages.org/package/databricks/spark-csv) infer the types of the columns, we can specify the schema as a [DataType](https://spark.apache.org/docs/1.6.2/api/python/pyspark.sql.html#pyspark.sql.types.DataType), which is a list of [StructField](https://spark.apache.org/docs/1.6.2/api/python/pyspark.sql.html#pyspark.sql.types.StructType).\n",
    "You can find a list of types in the [pyspark.sql.types](https://spark.apache.org/docs/1.6.2/api/python/pyspark.sql.html#module-pyspark.sql.types) module. For our data, we will use [DoubleType()](https://spark.apache.org/docs/1.6.2/api/python/pyspark.sql.html#pyspark.sql.types.DoubleType).\n",
    "For example, to specify that a column's name and type, we use: `StructField(`_name_`,` _type_`, True)`. (The third parameter, `True`, signifies that the column is nullable.)\n",
    "\n",
    "Create a custom schema for the power plant data."
   ]
  },
  {
   "cell_type": "code",
   "execution_count": null,
   "metadata": {
    "application/vnd.databricks.v1+cell": {
     "inputWidgets": {},
     "nuid": "70226521-a3d0-47d8-9b1b-02d56869152e",
     "showTitle": false,
     "title": ""
    },
    "deletable": false,
    "nbgrader": {
     "cell_type": "code",
     "checksum": "c94dabc7ddf32225932af0ca3b91e4f5",
     "grade": false,
     "grade_id": "schema_type",
     "locked": false,
     "schema_version": 3,
     "solution": true,
     "task": false
    }
   },
   "outputs": [],
   "source": [
    "# TO DO: Uncomment the lines and fill in the custom schema.\n",
    "from pyspark.sql.types import *\n",
    "\n",
    "# Custom Schema for Power Plant\n",
    "# customSchema = StructType([ \\\n",
    "#     <FILL_IN>, \\\n",
    "#     <FILL_IN>, \\\n",
    "#     <FILL_IN>, \\\n",
    "#     <FILL_IN>, \\\n",
    "#     <FILL_IN> \\\n",
    "#                           ])\n",
    "\n",
    "\n",
    "# YOUR CODE HERE\n",
    "raise NotImplementedError()\n"
   ]
  },
  {
   "cell_type": "code",
   "execution_count": null,
   "metadata": {
    "application/vnd.databricks.v1+cell": {
     "inputWidgets": {},
     "nuid": "68d2c224-ef1e-4137-aebc-4f43f250e308",
     "showTitle": false,
     "title": ""
    },
    "deletable": false,
    "editable": false,
    "nbgrader": {
     "cell_type": "code",
     "checksum": "e93f994f84f7cfb7c2b2da0563bc67d2",
     "grade": true,
     "grade_id": "schema_type_test",
     "locked": true,
     "points": 1,
     "schema_version": 3,
     "solution": false,
     "task": false
    }
   },
   "outputs": [],
   "source": [
    "# TEST\n",
    "assert_equal(set([f.name for f in customSchema.fields]), set(['AT', 'V', 'AP', 'RH', 'PE']), 'Incorrect column names in schema.')\n",
    "assert_equal(set([f.dataType for f in customSchema.fields]), set([DoubleType(), DoubleType(), DoubleType(), DoubleType(), DoubleType()]), 'Incorrect column types in schema.')"
   ]
  },
  {
   "cell_type": "markdown",
   "metadata": {
    "application/vnd.databricks.v1+cell": {
     "inputWidgets": {},
     "nuid": "7a15a47f-f7f8-4ec8-8e95-ee76a100afbe",
     "showTitle": false,
     "title": ""
    }
   },
   "source": [
    "### Exercise 2(d)\n",
    "\n",
    "Now, let's use the schema to read the data. To do this, we will modify the earlier `sqlContext.read.format` step. We can specify the schema by:\n",
    "- Adding `schema = customSchema` to the load method (use a comma and add it after the file name)\n",
    "- Removing the `inferschema='true'`option because we are explicitly specifying the schema"
   ]
  },
  {
   "cell_type": "code",
   "execution_count": null,
   "metadata": {
    "application/vnd.databricks.v1+cell": {
     "inputWidgets": {},
     "nuid": "3c341978-6047-47fe-98eb-bc66b83d1784",
     "showTitle": false,
     "title": ""
    },
    "deletable": false,
    "nbgrader": {
     "cell_type": "code",
     "checksum": "c2e6735648edcfb21993c7c948c4e949",
     "grade": false,
     "grade_id": "csv_custom_schema",
     "locked": false,
     "schema_version": 3,
     "solution": true,
     "task": false
    }
   },
   "outputs": [],
   "source": [
    "# TODO: Uncomment the line and use the schema you created above to load the data again.\n",
    "# altPowerPlantDF = sqlContext.read.format(<FILL_IN>).options(<FILL_IN>).load(<FILL_IN>)\n",
    "\n",
    "# YOUR CODE HERE\n",
    "raise NotImplementedError()\n"
   ]
  },
  {
   "cell_type": "code",
   "execution_count": null,
   "metadata": {
    "application/vnd.databricks.v1+cell": {
     "inputWidgets": {},
     "nuid": "49e83b4e-e38a-48b6-8b4c-3a8ccf39e68a",
     "showTitle": false,
     "title": ""
    },
    "deletable": false,
    "editable": false,
    "nbgrader": {
     "cell_type": "code",
     "checksum": "53b1d49407c9d3bde3d39cfbae210a0b",
     "grade": true,
     "grade_id": "csv_custom_schema_test",
     "locked": true,
     "points": 1,
     "schema_version": 3,
     "solution": false,
     "task": false
    }
   },
   "outputs": [],
   "source": [
    "# TEST\n",
    "expected = set([(s, 'double') for s in ('AP', 'AT', 'PE', 'RH', 'V')])\n",
    "assert_equal(expected, set(altPowerPlantDF.dtypes), \"Incorrect schema for powerPlantDF\")"
   ]
  },
  {
   "cell_type": "markdown",
   "metadata": {
    "application/vnd.databricks.v1+cell": {
     "inputWidgets": {},
     "nuid": "2d11cf15-ef11-4d49-957e-f3cbbcc7938c",
     "showTitle": false,
     "title": ""
    }
   },
   "source": [
    "Note that no Spark jobs are launched this time. That is because we specified the schema, so the [spark-csv](https://spark-packages.org/package/databricks/spark-csv) package does not have to read the data to infer the schema. We can use the [dtypes](https://spark.apache.org/docs/1.6.2/api/python/pyspark.sql.html#pyspark.sql.DataFrame.dtypes) method to examine the names and types of the columns. They should be identical to the names and types of the columns that were earlier inferred from the data.\n",
    "\n",
    "When you run the following cell, data would not be read."
   ]
  },
  {
   "cell_type": "code",
   "execution_count": null,
   "metadata": {
    "application/vnd.databricks.v1+cell": {
     "inputWidgets": {},
     "nuid": "5e37121a-2391-43e0-b993-366f0fd61fb9",
     "showTitle": false,
     "title": ""
    }
   },
   "outputs": [],
   "source": [
    "print (altPowerPlantDF.dtypes)"
   ]
  },
  {
   "cell_type": "markdown",
   "metadata": {
    "application/vnd.databricks.v1+cell": {
     "inputWidgets": {},
     "nuid": "76990d60-e89b-432d-8c55-b176ac09cbb4",
     "showTitle": false,
     "title": ""
    }
   },
   "source": [
    "Now we can examine the data using the display() method. *Note that this operation will cause the data to be read and the DataFrame will be created.*"
   ]
  },
  {
   "cell_type": "code",
   "execution_count": null,
   "metadata": {
    "application/vnd.databricks.v1+cell": {
     "inputWidgets": {},
     "nuid": "bb9e1509-176e-4793-b118-8bd2b73ecaab",
     "showTitle": false,
     "title": ""
    }
   },
   "outputs": [],
   "source": [
    "# display(altPowerPlantDF)"
   ]
  },
  {
   "cell_type": "markdown",
   "metadata": {
    "application/vnd.databricks.v1+cell": {
     "inputWidgets": {},
     "nuid": "e416d4f0-4952-4abf-8d94-8e146bbaa4c2",
     "showTitle": false,
     "title": ""
    }
   },
   "source": [
    "## Part 3: Explore Your Data\n",
    "Now that your data is loaded, the next step is to explore it and perform some basic analysis and visualizations.\n",
    "\n",
    "This is a step that you should always perform **before** trying to fit a model to the data, as this step will often lead to important insights about your data."
   ]
  },
  {
   "cell_type": "markdown",
   "metadata": {
    "application/vnd.databricks.v1+cell": {
     "inputWidgets": {},
     "nuid": "8dfa63a5-8ccc-4d64-93e4-f350449987b9",
     "showTitle": false,
     "title": ""
    }
   },
   "source": [
    "### Exercise 3(a)\n",
    "First, let's register our DataFrame as an SQL table named `power_plant`.  Because you may run this lab multiple times, we'll take the precaution of removing any existing tables first.\n",
    "\n",
    "We can delete any existing `power_plant` SQL table using the SQL command: `DROP TABLE IF EXISTS power_plant` (we also need to to delete any Hive data associated with the table, which we can do with a Databricks file system operation).\n",
    "\n",
    "Once any prior table is removed, we can register our DataFrame as a SQL table using [sqlContext.registerDataFrameAsTable()](https://spark.apache.org/docs/1.6.2/api/python/pyspark.sql.html#pyspark.sql.SQLContext.registerDataFrameAsTable).\n",
    "\n",
    "**ToDo:** Execute the prepared code in the following cell."
   ]
  },
  {
   "cell_type": "code",
   "execution_count": null,
   "metadata": {
    "application/vnd.databricks.v1+cell": {
     "inputWidgets": {},
     "nuid": "1705d821-7eb8-4ba5-81b8-6cd9e028655b",
     "showTitle": false,
     "title": ""
    }
   },
   "outputs": [],
   "source": [
    "# uncomment to delete hive data in databricks\n",
    "\n",
    "# dbutils.fs.rm(\"dbfs:/user/hive/warehouse/power_plant\", True)\n",
    "sqlContext.sql(\"DROP TABLE IF EXISTS power_plant\")\n",
    "sqlContext.registerDataFrameAsTable(powerPlantDF, \"power_plant\")"
   ]
  },
  {
   "cell_type": "markdown",
   "metadata": {
    "application/vnd.databricks.v1+cell": {
     "inputWidgets": {},
     "nuid": "f591ee80-cf6f-4145-a1ec-cc782e7d0e21",
     "showTitle": false,
     "title": ""
    }
   },
   "source": [
    "### Exercise 3(b)\n",
    "\n",
    "Now that our DataFrame exists as a SQL table, we can explore it using SQL commands.\n",
    "\n",
    "To execute SQL in a cell, we use the `%sql` operator. The following cell is an example of using SQL to query the rows of the SQL table.\n",
    "\n",
    "**IMPORTANT**: uncomment the code in this part to run in databricks, COMMENT OUT ALL THE UNNECESSARY CODE IN THIS PART to submit to gradescope.\n",
    "\n",
    "**NOTE**: `%sql` is a Databricks-only command. It calls `sqlContext.sql()` and passes the results to the Databricks-only `display()` function. These two statements are equivalent:\n",
    "\n",
    "`%sql SELECT * FROM power_plant`\n",
    "\n",
    "`display(sqlContext.sql(\"SELECT * FROM power_plant\"))`\n",
    "\n",
    "**ToDo**: Execute the prepared code in the following cell."
   ]
  },
  {
   "cell_type": "code",
   "execution_count": null,
   "metadata": {
    "application/vnd.databricks.v1+cell": {
     "inputWidgets": {},
     "nuid": "2b18dec1-9e31-4f3b-9c05-6ab3e0eb2532",
     "showTitle": false,
     "title": ""
    }
   },
   "outputs": [],
   "source": [
    "# %sql\n",
    "# SELECT * FROM power_plant"
   ]
  },
  {
   "cell_type": "markdown",
   "metadata": {
    "application/vnd.databricks.v1+cell": {
     "inputWidgets": {},
     "nuid": "83693dfc-d14e-4e28-9021-b5992670de8c",
     "showTitle": false,
     "title": ""
    }
   },
   "source": [
    "### Exercise 3(c)\n",
    "\n",
    "Use the SQL `desc` command to describe the schema, by executing the following cell."
   ]
  },
  {
   "cell_type": "code",
   "execution_count": null,
   "metadata": {
    "application/vnd.databricks.v1+cell": {
     "inputWidgets": {},
     "nuid": "8a6a7de9-2666-451f-ad75-ab0721474cc0",
     "showTitle": false,
     "title": ""
    }
   },
   "outputs": [],
   "source": [
    "# %sql desc power_plant"
   ]
  },
  {
   "cell_type": "markdown",
   "metadata": {
    "application/vnd.databricks.v1+cell": {
     "inputWidgets": {},
     "nuid": "de0cb0d9-3ec4-420b-bd2f-5245a5d2e786",
     "showTitle": false,
     "title": ""
    }
   },
   "source": [
    "**Schema Definition**\n",
    "\n",
    "Once again, here's our schema definition:\n",
    "\n",
    "- AT = Atmospheric Temperature in C\n",
    "- V = Exhaust Vacuum Speed\n",
    "- AP = Atmospheric Pressure\n",
    "- RH = Relative Humidity\n",
    "- PE = Power Output\n",
    "\n",
    "PE is our label or target. This is the value we are trying to predict given the measurements.\n",
    "\n",
    "*Reference [UCI Machine Learning Repository Combined Cycle Power Plant Data Set](https://archive.ics.uci.edu/ml/datasets/Combined+Cycle+Power+Plant)*"
   ]
  },
  {
   "cell_type": "markdown",
   "metadata": {
    "application/vnd.databricks.v1+cell": {
     "inputWidgets": {},
     "nuid": "5246c705-e620-4921-993f-608a41d21f3c",
     "showTitle": false,
     "title": ""
    }
   },
   "source": [
    "Let's perform some basic statistical analyses of all the columns.\n",
    "\n",
    "We can get the DataFrame associated with a SQL table by using the [sqlContext.table()](https://spark.apache.org/docs/1.6.2/api/python/pyspark.sql.html#pyspark.sql.DataFrameReader.table) method and passing in the name of the SQL table. Then, we can use the DataFrame [describe()](https://spark.apache.org/docs/1.6.2/api/python/pyspark.sql.html#pyspark.sql.DataFrame.describe) method with no arguments to compute some basic statistics for each column like count, mean, max, min and standard deviation."
   ]
  },
  {
   "cell_type": "code",
   "execution_count": null,
   "metadata": {
    "application/vnd.databricks.v1+cell": {
     "inputWidgets": {},
     "nuid": "b79bb90b-976f-41c9-a0ad-ea600944e7f2",
     "showTitle": false,
     "title": ""
    }
   },
   "outputs": [],
   "source": [
    "# uncomment to run in databricks\n",
    "# comment to submit to gradescope\n",
    "\n",
    "# df = sqlContext.table(\"power_plant\")\n",
    "# display(df.describe())"
   ]
  },
  {
   "cell_type": "markdown",
   "metadata": {
    "application/vnd.databricks.v1+cell": {
     "inputWidgets": {},
     "nuid": "15f3bf3d-5737-4041-bbcf-f714ca52cf84",
     "showTitle": false,
     "title": ""
    }
   },
   "source": [
    "## Part 4: Visualize Your Data\n",
    "\n",
    "To understand our data, we will look for correlations between features and the label.  This can be important when choosing a model.  E.g., if features and a label are linearly correlated, a linear model like Linear Regression can do well; if the relationship is very non-linear, more complex models such as random forests can be better. We can use Databrick's built in visualization to view each of our predictors in relation to the label column as a scatter plot to see the correlation between the predictors and the label."
   ]
  },
  {
   "cell_type": "markdown",
   "metadata": {
    "application/vnd.databricks.v1+cell": {
     "inputWidgets": {},
     "nuid": "3fea48ed-4172-4e2d-8a75-529390da6e69",
     "showTitle": false,
     "title": ""
    }
   },
   "source": [
    "### Exercise 4(a)\n",
    "\n",
    "** Add figures to the following: **\n",
    "Let's see if there is a corellation between Temperature and Power Output. We can use a dataframe consisting of only the Temperature (AT) and Power (PE) columns, and then use a scatter plot with Temperature on the X axis and Power on the Y axis to visualize the relationship (if any) between Temperature and Power.\n",
    "\n",
    "\n",
    "Perform the following steps:\n",
    "\n",
    "- Run the following cell\n",
    "- Click on the drop down next to the \"Bar chart\" icon and select \"Scatter\" to turn the table into a Scatter plot\n",
    "\n",
    "<img src=\"http://spark-mooc.github.io/web-assets/images/cs110x/change-plot-type-scatter.png\" style=\"border: 1px solid #999999\"/>\n",
    "\n",
    "- Click on \"Plot Options...\"\n",
    "- In the Values box, click on \"Temperature\" and drag it before \"Power\", as shown below:\n",
    "\n",
    "<img src=\"http://spark-mooc.github.io/web-assets/images/cs110x/customize-plot-scatter.png\" style=\"border: 1px solid #999999\"/>\n",
    "\n",
    "- Apply your changes by clicking the Apply button\n",
    "- Increase the size of the graph by clicking and dragging the size control"
   ]
  },
  {
   "cell_type": "code",
   "execution_count": null,
   "metadata": {
    "application/vnd.databricks.v1+cell": {
     "inputWidgets": {},
     "nuid": "0e8de053-0ad8-453d-a04c-447cfca9096c",
     "showTitle": false,
     "title": ""
    },
    "deletable": false,
    "nbgrader": {
     "cell_type": "code",
     "checksum": "ac5dffff258912441cfaadbbbb30124c",
     "grade": false,
     "grade_id": "select",
     "locked": false,
     "schema_version": 3,
     "solution": true,
     "task": false
    }
   },
   "outputs": [],
   "source": [
    "# TODO: Uncomment the template below and replace <FILL IN> with appropriate code\n",
    "from pyspark.sql.functions import col\n",
    "# display(powerPlantDF.select(<FILL IN>))\n",
    "\n",
    "# YOUR CODE HERE\n",
    "raise NotImplementedError()"
   ]
  },
  {
   "cell_type": "markdown",
   "metadata": {
    "application/vnd.databricks.v1+cell": {
     "inputWidgets": {},
     "nuid": "8d7c5eba-5951-45e0-8d52-1172310285f1",
     "showTitle": false,
     "title": ""
    }
   },
   "source": [
    "It looks like there is strong linear correlation between Temperature and Power Output.\n",
    "\n",
    "** ASIDE: A quick physics lesson**: This correlation is to be expected as the second law of thermodynamics puts a fundamental limit on the [thermal efficiency](https://en.wikipedia.org/wiki/Thermal_efficiency) of all heat-based engines. The limiting factors are:\n",
    " - The temperature at which the heat enters the engine \\\\( T_{H} \\\\)\n",
    " - The temperature of the environment into which the engine exhausts its waste heat \\\\( T_C \\\\)\n",
    "\n",
    "Our temperature measurements are the temperature of the environment. From [Carnot's theorem](https://en.wikipedia.org/wiki/Carnot%27s_theorem_%28thermodynamics%29), no heat engine working between these two temperatures can exceed the Carnot Cycle efficiency:\n",
    "\\\\[ n_{th} \\le 1 - \\frac{T_C}{T_H}  \\\\]\n",
    "\n",
    "Note that as the environmental temperature increases, the efficiency decreases -- _this is the effect that we see in the above graph._"
   ]
  },
  {
   "cell_type": "markdown",
   "metadata": {
    "application/vnd.databricks.v1+cell": {
     "inputWidgets": {},
     "nuid": "a8689e2c-80a6-4f12-8b2e-82ebd60bdfe7",
     "showTitle": false,
     "title": ""
    }
   },
   "source": [
    "### Exercise 4(b)\n",
    "\n",
    "Use DataFrame to create a scatter plot of Power(PE) as a function of ExhaustVacuum (V).\n",
    "Name the y-axis \"Power\" and the x-axis \"ExhaustVacuum\""
   ]
  },
  {
   "cell_type": "code",
   "execution_count": null,
   "metadata": {
    "application/vnd.databricks.v1+cell": {
     "inputWidgets": {},
     "nuid": "7fd9bbde-639d-42e3-9165-a83b44453e78",
     "showTitle": false,
     "title": ""
    },
    "deletable": false,
    "nbgrader": {
     "cell_type": "code",
     "checksum": "95c95cc832eca74b09e5a64085717905",
     "grade": false,
     "grade_id": "display_scatterplot_1",
     "locked": false,
     "schema_version": 3,
     "solution": true,
     "task": false
    }
   },
   "outputs": [],
   "source": [
    "# TODO: Uncomment the template below and replace <FILL IN> with appropriate code\n",
    "# display(powerPlantDF.select(<FILL IN>))\n",
    "\n",
    "# YOUR CODE HERE\n",
    "raise NotImplementedError()"
   ]
  },
  {
   "cell_type": "markdown",
   "metadata": {
    "application/vnd.databricks.v1+cell": {
     "inputWidgets": {},
     "nuid": "a1147b57-dcd2-49c0-bf8d-23b9dbeda499",
     "showTitle": false,
     "title": ""
    }
   },
   "source": [
    "### Exercise 4(c)\n",
    "\n",
    "Let's continue exploring the relationships (if any) between the variables and Power Output.\n",
    "\n",
    "Use DataFrame to create a scatter plot of Power(PE) as a function of Pressure (AP).\n",
    "Name the y-axis \"Power\" and the x-axis \"Pressure\""
   ]
  },
  {
   "cell_type": "code",
   "execution_count": null,
   "metadata": {
    "application/vnd.databricks.v1+cell": {
     "inputWidgets": {},
     "nuid": "389d49d5-e987-460c-b14a-f3d096fc90e9",
     "showTitle": false,
     "title": ""
    },
    "deletable": false,
    "nbgrader": {
     "cell_type": "code",
     "checksum": "69718efa1c6de18d5c1ba7d3a84cbb9a",
     "grade": false,
     "grade_id": "display_scatterplot_2",
     "locked": false,
     "schema_version": 3,
     "solution": true,
     "task": false
    }
   },
   "outputs": [],
   "source": [
    "# TODO: Uncomment the template below and replace <FILL IN> with appropriate code\n",
    "# display(powerPlantDF.select(<FILL IN>))\n",
    "\n",
    "# YOUR CODE HERE\n",
    "raise NotImplementedError()"
   ]
  },
  {
   "cell_type": "markdown",
   "metadata": {
    "application/vnd.databricks.v1+cell": {
     "inputWidgets": {},
     "nuid": "1798c951-8b68-41af-98f0-99d15e60fff8",
     "showTitle": false,
     "title": ""
    }
   },
   "source": [
    "### Exercise 4(d)\n",
    "\n",
    "Use DataFrame to create a scatter plot of Power(PE) as a function of Humidity (RH).\n",
    "Name the y-axis \"Power\" and the x-axis \"Humidity\""
   ]
  },
  {
   "cell_type": "code",
   "execution_count": null,
   "metadata": {
    "application/vnd.databricks.v1+cell": {
     "inputWidgets": {},
     "nuid": "133c31ef-f899-497b-a65c-de332483aa0f",
     "showTitle": false,
     "title": ""
    },
    "deletable": false,
    "nbgrader": {
     "cell_type": "code",
     "checksum": "e9e04920dc9f81d663bee681928a9c0a",
     "grade": false,
     "grade_id": "display_scatterplot_3",
     "locked": false,
     "schema_version": 3,
     "solution": true,
     "task": false
    }
   },
   "outputs": [],
   "source": [
    "# TODO: Uncomment the template below and replace <FILL IN> with appropriate code\n",
    "# display(powerPlantDF.select(<FILL IN>))\n",
    "\n",
    "# YOUR CODE HERE\n",
    "raise NotImplementedError()"
   ]
  },
  {
   "cell_type": "markdown",
   "metadata": {
    "application/vnd.databricks.v1+cell": {
     "inputWidgets": {},
     "nuid": "a6e92e9e-cd6d-4f2e-947e-f5a18fdcfc1f",
     "showTitle": false,
     "title": ""
    }
   },
   "source": [
    "## Part 5: Data Preparation\n",
    "\n",
    "The next step is to prepare the data for machine learning. Since all of this data is numeric and consistent this is a simple and straightforward task.\n",
    "\n",
    "The goal is to use machine learning to determine a function that yields the output power as a function of a set of predictor features. The first step in building our ML pipeline is to convert the predictor features from DataFrame columns to Feature Vectors using the [pyspark.ml.feature.VectorAssembler()](https://spark.apache.org/docs/1.6.2/api/python/pyspark.ml.html#pyspark.ml.feature.VectorAssembler) method.\n",
    "\n",
    "The VectorAssembler is a transformer that combines a given list of columns into a single vector column. It is useful for combining raw features and features generated by different feature transformers into a single feature vector, in order to train ML models like logistic regression and decision trees. VectorAssembler takes a list of input column names (each is a string) and the name of the output column (as a string)."
   ]
  },
  {
   "cell_type": "markdown",
   "metadata": {
    "application/vnd.databricks.v1+cell": {
     "inputWidgets": {},
     "nuid": "8768e798-ff21-47e0-a171-8f666506165c",
     "showTitle": false,
     "title": ""
    }
   },
   "source": [
    "### Exercise 5(a)\n",
    "\n",
    "- Read the Spark documentation and useage examples for [VectorAssembler](https://spark.apache.org/docs/1.6.2/ml-features.html#vectorassembler)\n",
    "- Convert the `power_plant` SQL table into a DataFrame named `dataset`\n",
    "- Set the vectorizer's input columns to a list of the four columns of the input DataFrame: `[\"AT\", \"V\", \"AP\", \"RH\"]`\n",
    "- Set the vectorizer's output column name to `\"features\"`"
   ]
  },
  {
   "cell_type": "code",
   "execution_count": null,
   "metadata": {
    "application/vnd.databricks.v1+cell": {
     "inputWidgets": {},
     "nuid": "4cdef9a2-a612-486a-8d3d-0962145080fb",
     "showTitle": false,
     "title": ""
    },
    "deletable": false,
    "nbgrader": {
     "cell_type": "code",
     "checksum": "43aeb40b90e406d6d9b2093fda813f8c",
     "grade": false,
     "grade_id": "vector_assembler",
     "locked": false,
     "schema_version": 3,
     "solution": true,
     "task": false
    }
   },
   "outputs": [],
   "source": [
    "# TODO: Uncomment the lines and replace <FILL_IN> with the appropriate code\n",
    "from pyspark.ml.feature import VectorAssembler\n",
    "\n",
    "# datasetDF = <FILL_IN>\n",
    "\n",
    "# vectorizer = VectorAssembler()\n",
    "# vectorizer.<FILL_IN>\n",
    "# vectorizer.<FILL_IN>\n",
    "\n",
    "# YOUR CODE HERE\n",
    "raise NotImplementedError()\n"
   ]
  },
  {
   "cell_type": "code",
   "execution_count": null,
   "metadata": {
    "application/vnd.databricks.v1+cell": {
     "inputWidgets": {},
     "nuid": "d22789ae-b861-45ff-a7b1-44e11c3fc945",
     "showTitle": false,
     "title": ""
    },
    "deletable": false,
    "editable": false,
    "nbgrader": {
     "cell_type": "code",
     "checksum": "7fd09e957a1f18e30551988a86a5021c",
     "grade": true,
     "grade_id": "vector_assembler_test",
     "locked": true,
     "points": 1,
     "schema_version": 3,
     "solution": false,
     "task": false
    }
   },
   "outputs": [],
   "source": [
    "# TEST\n",
    "assert_equal(set(vectorizer.getInputCols()), {\"AT\", \"V\", \"AP\", \"RH\"}, \"Incorrect vectorizer input columns\")\n",
    "assert_equal(vectorizer.getOutputCol(), \"features\", \"Incorrect vectorizer output column\")"
   ]
  },
  {
   "cell_type": "markdown",
   "metadata": {
    "application/vnd.databricks.v1+cell": {
     "inputWidgets": {},
     "nuid": "82c51c53-e297-4e8d-ad0b-cf15206c1500",
     "showTitle": false,
     "title": ""
    }
   },
   "source": [
    "## Part 6: Data Modeling\n",
    "Now let's model our data to predict what the power output will be given a set of sensor readings\n",
    "\n",
    "Our first model will be based on simple linear regression since we saw some linear patterns in our data based on the scatter plots during the exploration stage.\n",
    "\n",
    "We need a way of evaluating how well our linear regression model predicts power output as a function of input parameters. We can do this by splitting up our initial data set into a _Training Set_ used to train our model and a _Test Set_ used to evaluate the model's performance in giving predictions. We can use a DataFrame's [randomSplit()](https://spark.apache.org/docs/1.6.2/api/python/pyspark.sql.html#pyspark.sql.DataFrame.randomSplit) method to split our dataset. The method takes a list of weights and an optional random seed. The seed is used to initialize the random number generator used by the splitting function. \n",
    "However, in this part we just slice the dataframe by index and we will use randomSplit() in later parts."
   ]
  },
  {
   "cell_type": "markdown",
   "metadata": {
    "application/vnd.databricks.v1+cell": {
     "inputWidgets": {},
     "nuid": "d800c758-e630-4684-b69f-2184a43ce51a",
     "showTitle": false,
     "title": ""
    }
   },
   "source": [
    "### Exercise 6(a)\n",
    "\n",
    "Use [monotonically_increasing_id()](https://spark.apache.org/docs/2.1.0/api/python/pyspark.sql.html#pyspark.sql.functions.monotonically_increasing_id) method to create index for `datasetDF` and divide up it into a trainingSetDF (80% of the input DataFrame) and a testSetDF (20% of the input DataFrame). Then cache each DataFrame in memory to maximize performance."
   ]
  },
  {
   "cell_type": "code",
   "execution_count": null,
   "metadata": {
    "application/vnd.databricks.v1+cell": {
     "inputWidgets": {},
     "nuid": "a56d3c4b-2c61-4ef5-9c17-5be785bda416",
     "showTitle": false,
     "title": ""
    },
    "deletable": false,
    "nbgrader": {
     "cell_type": "code",
     "checksum": "fab6884ec5334cb794fc30737711ee54",
     "grade": false,
     "grade_id": "train_test_split",
     "locked": false,
     "schema_version": 3,
     "solution": true,
     "task": false
    }
   },
   "outputs": [],
   "source": [
    "\n",
    "# TODO: Uncomment the following lines and replace <FILL_IN> with the appropriate code.\n",
    "# # We'll hold out 20% of our data for testing and leave 80% for training\n",
    "# import pyspark.sql.functions as f\n",
    "# indexDF = datasetDF.withColumn('index', f.monotonically_increasing_id())\n",
    "# datasetSize = <FILL IN>\n",
    "# testSize = <FILL IN>\n",
    "# trainSize = <FILL IN>\n",
    "# # take first 20% rows\n",
    "# split20DF = indexDF.sort(<FILL IN>).limit(testSize).drop('index')\n",
    "# # take last 80% rows\n",
    "# split80DF = indexDF.sort(<FILL IN>).limit(trainSize).drop('index')\n",
    "\n",
    "# # Let's cache these datasets for performance\n",
    "# testSetDF = <FILL_IN>\n",
    "# trainingSetDF = <FILL_IN>\n",
    "\n",
    "# YOUR CODE HERE\n",
    "raise NotImplementedError()\n"
   ]
  },
  {
   "cell_type": "code",
   "execution_count": null,
   "metadata": {
    "application/vnd.databricks.v1+cell": {
     "inputWidgets": {},
     "nuid": "2010adcc-fbb2-48ac-9b8d-87fc587c9dd2",
     "showTitle": false,
     "title": ""
    },
    "deletable": false,
    "editable": false,
    "nbgrader": {
     "cell_type": "code",
     "checksum": "7964b0aabe8aa430415eb42ff976e113",
     "grade": true,
     "grade_id": "train_test_split_test",
     "locked": true,
     "points": 1,
     "schema_version": 3,
     "solution": false,
     "task": false
    }
   },
   "outputs": [],
   "source": [
    "# TEST\n",
    "assert_equal(trainingSetDF.count(), 38272, \"Incorrect size for training data set\")\n",
    "assert_equal(testSetDF.count(), 9568, \"Incorrect size for test data set\")"
   ]
  },
  {
   "cell_type": "markdown",
   "metadata": {
    "application/vnd.databricks.v1+cell": {
     "inputWidgets": {},
     "nuid": "7313f175-db83-4cad-96c0-699c68bd13ea",
     "showTitle": false,
     "title": ""
    }
   },
   "source": [
    "### Exercise 6(b)\n",
    "\n",
    "Next we'll create a Linear Regression Model and use the built in help to identify how to train it. See API details for [Linear Regression](https://spark.apache.org/docs/1.6.2/api/python/pyspark.ml.html#pyspark.ml.regression.LinearRegression) in the ML guide.\n",
    "\n",
    "- Read the documentation and examples for [Linear Regression](https://spark.apache.org/docs/1.6.2/ml-classification-regression.html#linear-regression)\n",
    "- Run the next cell"
   ]
  },
  {
   "cell_type": "code",
   "execution_count": null,
   "metadata": {
    "application/vnd.databricks.v1+cell": {
     "inputWidgets": {},
     "nuid": "b0f7fefc-b9fc-4771-933c-36e64a50d063",
     "showTitle": false,
     "title": ""
    }
   },
   "outputs": [],
   "source": [
    "# ***** LINEAR REGRESSION MODEL ****\n",
    "\n",
    "from pyspark.ml.regression import LinearRegression\n",
    "from pyspark.ml.regression import LinearRegressionModel\n",
    "from pyspark.ml import Pipeline\n",
    "\n",
    "# Let's initialize our linear regression learner\n",
    "lr = LinearRegression()\n",
    "\n",
    "# We use explain params to dump the parameters we can use\n",
    "print(lr.explainParams())"
   ]
  },
  {
   "cell_type": "markdown",
   "metadata": {
    "application/vnd.databricks.v1+cell": {
     "inputWidgets": {},
     "nuid": "67f0b3fa-b4c3-40df-8ad5-416c8cbf0653",
     "showTitle": false,
     "title": ""
    }
   },
   "source": [
    "### Exercise 6(c)\n",
    "The cell below is based on the [Spark ML Pipeline API for Linear Regression](https://spark.apache.org/docs/1.6.2/api/python/pyspark.ml.html#pyspark.ml.regression.LinearRegression).\n",
    "\n",
    "The first step is to set the parameters for the method:\n",
    "- Set the name of the prediction column to \"Predicted_PE\"\n",
    "- Set the name of the label column to \"PE\"\n",
    "- Set the maximum number of iterations to 100\n",
    "- Set the regularization parameter to 0.1\n",
    "\n",
    "Next, we create the [ML Pipeline](https://spark.apache.org/docs/1.6.2/api/python/pyspark.ml.html#pyspark.ml.Pipeline) and set the stages to the Vectorizer and Linear Regression learner we created earlier.\n",
    "\n",
    "Finally, we create a model by training on `trainingSetDF`.\n",
    "\n",
    "- Read the [Linear Regression](https://spark.apache.org/docs/1.6.2/api/python/pyspark.ml.html#pyspark.ml.regression.LinearRegression) documentation\n",
    "- Run the next cell, and be sure you understand what's going on."
   ]
  },
  {
   "cell_type": "code",
   "execution_count": null,
   "metadata": {
    "application/vnd.databricks.v1+cell": {
     "inputWidgets": {},
     "nuid": "635a9517-dcec-421a-822b-9c30ced78feb",
     "showTitle": false,
     "title": ""
    }
   },
   "outputs": [],
   "source": [
    "# Now we set the parameters for the method\n",
    "lr.setPredictionCol(\"Predicted_PE\")\\\n",
    "  .setLabelCol(\"PE\")\\\n",
    "  .setMaxIter(100)\\\n",
    "  .setRegParam(0.1)\n",
    "\n",
    "\n",
    "# We will use the new spark.ml pipeline API. If you have worked with scikit-learn this will be very familiar.\n",
    "lrPipeline = Pipeline()\n",
    "\n",
    "lrPipeline.setStages([vectorizer, lr])\n",
    "\n",
    "# Let's first train on the entire dataset to see what we get\n",
    "lrModel = lrPipeline.fit(trainingSetDF)"
   ]
  },
  {
   "cell_type": "markdown",
   "metadata": {
    "application/vnd.databricks.v1+cell": {
     "inputWidgets": {},
     "nuid": "beb2e0ac-36ef-4b94-8734-86789ada7512",
     "showTitle": false,
     "title": ""
    }
   },
   "source": [
    "### Exercise 6(d)\n",
    "\n",
    "From the Wikipedia article on [Linear Regression](https://en.wikipedia.org/wiki/Linear_regression):\n",
    "> In statistics, linear regression is an approach for modeling the relationship between a scalar dependent variable \\\\( y \\\\) and one or more explanatory variables (or independent variables) denoted \\\\(X\\\\). In linear regression, the relationships are modeled using linear predictor functions whose unknown model parameters are estimated from the data. Such models are called linear models.\n",
    "\n",
    "Linear regression has many practical uses. Most applications fall into one of the following two broad categories:\n",
    "  - If the goal is prediction, or forecasting, or error reduction, linear regression can be used to fit a predictive model to an observed data set of \\\\(y\\\\) and \\\\(X\\\\) values. After developing such a model, if an additional value of \\\\(X\\\\) is then given without its accompanying value of \\\\(y\\\\), the fitted model can be used to make a prediction of the value of \\\\(y\\\\).\n",
    "  - Given a variable \\\\(y\\\\) and a number of variables \\\\( X_1 \\\\), ..., \\\\( X_p \\\\) that may be related to \\\\(y\\\\), linear regression analysis can be applied to quantify the strength of the relationship between \\\\(y\\\\) and the \\\\( X_j\\\\), to assess which \\\\( X_j \\\\) may have no relationship with \\\\(y\\\\) at all, and to identify which subsets of the \\\\( X_j \\\\) contain redundant information about \\\\(y\\\\).\n",
    "\n",
    "We are interested in both uses, as we would like to predict power output as a function of the input variables, and we would like to know which input variables are weakly or strongly correlated with power output.\n",
    "\n",
    "Since Linear Regression is simply a Line of best fit over the data that minimizes the square of the error, given multiple input dimensions we can express each predictor as a line function of the form:\n",
    "\n",
    "\\\\[ y = a + b x_1 + b x_2 + b x_i ... \\\\]\n",
    "\n",
    "where \\\\(a\\\\) is the intercept and the \\\\(b\\\\) are the coefficients.\n",
    "\n",
    "To express the coefficients of that line we can retrieve the Estimator stage from the PipelineModel and express the weights and the intercept for the function.\n",
    "\n",
    "Run the next cell. Ensure that you understand what's going on."
   ]
  },
  {
   "cell_type": "code",
   "execution_count": null,
   "metadata": {
    "application/vnd.databricks.v1+cell": {
     "inputWidgets": {},
     "nuid": "3a78e386-2806-4a11-9e26-90d92daee961",
     "showTitle": false,
     "title": ""
    }
   },
   "outputs": [],
   "source": [
    "# The intercept is as follows:\n",
    "intercept = lrModel.stages[1].intercept\n",
    "\n",
    "# The coefficents (i.e., weights) are as follows:\n",
    "weights = lrModel.stages[1].coefficients\n",
    "\n",
    "# Create a list of the column names (without PE)\n",
    "featuresNoLabel = [col for col in datasetDF.columns if col != \"PE\"]\n",
    "\n",
    "# Merge the weights and labels\n",
    "# Sort the coefficients from greatest absolute weight most to the least absolute weight\n",
    "coefficents = sorted(zip(weights, featuresNoLabel), key=lambda tup: abs(tup[0]), reverse=True)\n",
    "\n",
    "equation = \"y = {intercept}\".format(intercept=intercept)\n",
    "variables = []\n",
    "for x in coefficents:\n",
    "    weight = abs(x[0])\n",
    "    name = x[1]\n",
    "    symbol = \"+\" if (x[0] > 0) else \"-\"\n",
    "    equation += (\" {} ({} * {})\".format(symbol, weight, name))\n",
    "\n",
    "# Finally here is our equation\n",
    "print(\"Linear Regression Equation: \" + equation)"
   ]
  },
  {
   "cell_type": "markdown",
   "metadata": {
    "application/vnd.databricks.v1+cell": {
     "inputWidgets": {},
     "nuid": "211074b2-75c0-4818-a8f4-27d22a6509e0",
     "showTitle": false,
     "title": ""
    }
   },
   "source": [
    "### Exercise 6(e)\n",
    "\n",
    "Recall **Part 4: Visualize Your Data** when we visualized each predictor against Power Output using a Scatter Plot, does the final equation seems logical given those visualizations?\n",
    "\n",
    "Now let's see what our predictions look like given this model. We apply our Linear Regression model to the 20% of the data that we split from the input dataset. The output of the model will be a predicted Power Output column named \"Predicted_PE\".\n",
    "\n",
    "- Run the next cell\n",
    "- Scroll through the resulting table and notice how the values in the Power Output (PE) column compare to the corresponding values in the predicted Power Output (Predicted_PE) column"
   ]
  },
  {
   "cell_type": "code",
   "execution_count": null,
   "metadata": {
    "application/vnd.databricks.v1+cell": {
     "inputWidgets": {},
     "nuid": "ea8c2619-1799-49d2-b362-e8d90e5db3fd",
     "showTitle": false,
     "title": ""
    }
   },
   "outputs": [],
   "source": [
    "# Apply our LR model to the test data and predict power output\n",
    "predictionsAndLabelsDF = lrModel.transform(testSetDF).select(\"AT\", \"V\", \"AP\", \"RH\", \"PE\", \"Predicted_PE\")\n",
    "\n",
    "# display(predictionsAndLabelsDF)"
   ]
  },
  {
   "cell_type": "markdown",
   "metadata": {
    "application/vnd.databricks.v1+cell": {
     "inputWidgets": {},
     "nuid": "4fcc3fde-acec-491d-8a06-db5d1ed3d47e",
     "showTitle": false,
     "title": ""
    }
   },
   "source": [
    "### Exercise 6(f)\n",
    "\n",
    "From a visual inspection of the predictions, we can see that they are close to the actual values.\n",
    "\n",
    "However, we would like a scientific measure of how well the Linear Regression model is performing in accurately predicting values. To perform this measurement, we can use an evaluation metric such as [Root Mean Squared Error](https://en.wikipedia.org/wiki/Root-mean-square_deviation) (RMSE) to validate our Linear Regression model.\n",
    "\n",
    "RSME is defined as follows: \\\\( RMSE = \\sqrt{\\frac{\\sum_{i = 1}^{n} (x_i - y_i)^2}{n}}\\\\) where \\\\(y_i\\\\) is the observed value and \\\\(x_i\\\\) is the predicted value\n",
    "\n",
    "RMSE is a frequently used measure of the differences between values predicted by a model or an estimator and the values actually observed. The lower the RMSE, the better our model.\n",
    "\n",
    "Spark ML Pipeline provides several regression analysis metrics, including [RegressionEvaluator()](https://spark.apache.org/docs/1.6.2/api/python/pyspark.ml.html#pyspark.ml.evaluation.RegressionEvaluator).\n",
    "\n",
    "After we create an instance of [RegressionEvaluator](https://spark.apache.org/docs/1.6.2/api/python/pyspark.ml.html#pyspark.ml.evaluation.RegressionEvaluator), we set the label column name to \"PE\" and set the prediction column name to \"Predicted_PE\". We then invoke the evaluator on the predictions.\n",
    "\n",
    "Run the next cell and ensure that you understand what's going on."
   ]
  },
  {
   "cell_type": "code",
   "execution_count": null,
   "metadata": {
    "application/vnd.databricks.v1+cell": {
     "inputWidgets": {},
     "nuid": "fd91356e-c59c-467e-99f0-87ab84f05b0b",
     "showTitle": false,
     "title": ""
    }
   },
   "outputs": [],
   "source": [
    "# Now let's compute an evaluation metric for our test dataset\n",
    "from pyspark.ml.evaluation import RegressionEvaluator\n",
    "\n",
    "# Create an RMSE evaluator using the label and predicted columns\n",
    "regEval = RegressionEvaluator(predictionCol=\"Predicted_PE\", labelCol=\"PE\", metricName=\"rmse\")\n",
    "\n",
    "# Run the evaluator on the DataFrame\n",
    "rmse = regEval.evaluate(predictionsAndLabelsDF)\n",
    "\n",
    "print(\"Root Mean Squared Error: %.2f\" % rmse)"
   ]
  },
  {
   "cell_type": "markdown",
   "metadata": {
    "application/vnd.databricks.v1+cell": {
     "inputWidgets": {},
     "nuid": "9b1dc701-aa46-4ef9-8b5e-55f338c7c853",
     "showTitle": false,
     "title": ""
    }
   },
   "source": [
    "### Exercise 6(g)\n",
    "\n",
    "Another useful statistical evaluation metric is the coefficient of determination, denoted \\\\(R^2\\\\) or \\\\(r^2\\\\) and pronounced \"R squared\". It is a number that indicates the proportion of the variance in the dependent variable that is predictable from the independent variable and it provides a measure of how well observed outcomes are replicated by the model, based on the proportion of total variation of outcomes explained by the model. The coefficient of determination ranges from 0 to 1 (closer to 1), and the higher the value, the better our model.\n",
    "\n",
    "To compute \\\\(r^2\\\\), we invoke the evaluator with  `regEval.metricName: \"r2\"`\n",
    "\n",
    "Run the next cell and ensure that you understand what's going on."
   ]
  },
  {
   "cell_type": "code",
   "execution_count": null,
   "metadata": {
    "application/vnd.databricks.v1+cell": {
     "inputWidgets": {},
     "nuid": "43de3676-54da-477b-ae47-a38805a8bc83",
     "showTitle": false,
     "title": ""
    }
   },
   "outputs": [],
   "source": [
    "# Now let's compute another evaluation metric for our test dataset\n",
    "r2 = regEval.evaluate(predictionsAndLabelsDF, {regEval.metricName: \"r2\"})\n",
    "\n",
    "print(\"r2: {0:.2f}\".format(r2))"
   ]
  },
  {
   "cell_type": "markdown",
   "metadata": {
    "application/vnd.databricks.v1+cell": {
     "inputWidgets": {},
     "nuid": "f7fa7ed0-beeb-45f1-b69d-851490873247",
     "showTitle": false,
     "title": ""
    }
   },
   "source": [
    "### Exercise 6(h)\n",
    "\n",
    "Generally, assuming a Gaussian distribution of errors, a good model will have 68% of predictions within 1 RMSE and 95% within 2 RMSE of the actual value (see http://statweb.stanford.edu/~susan/courses/s60/split/node60.html).\n",
    "\n",
    "Let's examine the predictions and see if the RMSE meets this criteria.\n",
    "\n",
    "We create a new DataFrame using [selectExpr()](https://spark.apache.org/docs/1.6.2/api/python/pyspark.sql.html#pyspark.sql.DataFrame.selectExpr) to project a set of SQL expressions, and register the DataFrame as a SQL table using [registerTempTable()](https://spark.apache.org/docs/1.6.2/api/python/pyspark.sql.html#pyspark.sql.DataFrame.registerTempTable).\n",
    "\n",
    "Run the next cell and ensure that you understand what's going on."
   ]
  },
  {
   "cell_type": "code",
   "execution_count": null,
   "metadata": {
    "application/vnd.databricks.v1+cell": {
     "inputWidgets": {},
     "nuid": "b4366dc7-035c-424b-81ed-941bbbb36cdb",
     "showTitle": false,
     "title": ""
    }
   },
   "outputs": [],
   "source": [
    "# First we remove the table if it already exists\n",
    "sqlContext.sql(\"DROP TABLE IF EXISTS Power_Plant_RMSE_Evaluation\")\n",
    "# dbutils.fs.rm(\"dbfs:/user/hive/warehouse/Power_Plant_RMSE_Evaluation\", True)\n",
    "\n",
    "# Next we calculate the residual error and divide it by the RMSE\n",
    "predictionsAndLabelsDF.selectExpr(\"PE\", \"Predicted_PE\", \"PE - Predicted_PE Residual_Error\", \"(PE - Predicted_PE) / {} Within_RSME\".format(rmse)).registerTempTable(\"Power_Plant_RMSE_Evaluation\")"
   ]
  },
  {
   "cell_type": "markdown",
   "metadata": {
    "application/vnd.databricks.v1+cell": {
     "inputWidgets": {},
     "nuid": "b118b8b6-f18e-4e54-b6a8-c9dcc9c41cea",
     "showTitle": false,
     "title": ""
    }
   },
   "source": [
    "### Exercise 6(i)\n",
    "\n",
    "We can use SQL to explore the `Power_Plant_RMSE_Evaluation` table. First let's look at at the table using a SQL SELECT statement.\n",
    "\n",
    "Run the next cell and ensure that you understand what's going on."
   ]
  },
  {
   "cell_type": "code",
   "execution_count": null,
   "metadata": {
    "application/vnd.databricks.v1+cell": {
     "inputWidgets": {},
     "nuid": "dd91307c-22f1-44f5-b581-99f6589fa0e0",
     "showTitle": false,
     "title": ""
    }
   },
   "outputs": [],
   "source": [
    "# %sql SELECT * from Power_Plant_RMSE_Evaluation"
   ]
  },
  {
   "cell_type": "markdown",
   "metadata": {
    "application/vnd.databricks.v1+cell": {
     "inputWidgets": {},
     "nuid": "bcedaa79-f7e5-44cc-b1a6-269793e39e4b",
     "showTitle": false,
     "title": ""
    }
   },
   "source": [
    "### Exercise 6(j)\n",
    "\n",
    "Now we can display the RMSE as a Histogram.\n",
    "\n",
    "Perform the following steps:\n",
    "\n",
    "- Run the following cell\n",
    "- Click on the drop down next to the \"Bar chart\" icon a select \"Histogram\" to turn the table into a Histogram plot\n",
    "\n",
    "<img src=\"http://spark-mooc.github.io/web-assets/images/cs110x/change-plot-type-histogram.png\" style=\"border: 1px solid #999999\"/>\n",
    "\n",
    "\n",
    "- Click on \"Plot Options...\"\n",
    "- In the \"All Fields:\" box, click on \"&lt;id&gt;\" and drag it into the \"Keys:\" box\n",
    "- Change the \"Aggregation\" to \"COUNT\"\n",
    "\n",
    "<img src=\"http://spark-mooc.github.io/web-assets/images/cs110x/customize-plot-histogram.png\" style=\"border: 1px solid #999999\"/>\n",
    "\n",
    "- Apply your changes by clicking the Apply button\n",
    "- Increase the size of the graph by clicking and dragging the size control\n",
    "\n",
    "Notice that the histogram clearly shows that the RMSE is centered around 0 with the vast majority of the error within 2 RMSEs.\n",
    "\n",
    "**IMPORTANT**: UNCOMMENT TO RUN IN DATABRICKS, COMMENT OUT SQL TO SUBMIT TO GRADESCOPE"
   ]
  },
  {
   "cell_type": "code",
   "execution_count": null,
   "metadata": {
    "application/vnd.databricks.v1+cell": {
     "inputWidgets": {},
     "nuid": "5f925d24-1362-4a44-969d-39f2da766fc9",
     "showTitle": false,
     "title": ""
    }
   },
   "outputs": [],
   "source": [
    "# %sql -- Now we can display the RMSE as a Histogram\n",
    "# SELECT Within_RSME  from Power_Plant_RMSE_Evaluation"
   ]
  },
  {
   "cell_type": "markdown",
   "metadata": {
    "application/vnd.databricks.v1+cell": {
     "inputWidgets": {},
     "nuid": "62c5b541-5bcb-4d18-85fd-ec6157544d7f",
     "showTitle": false,
     "title": ""
    }
   },
   "source": [
    "### Exercise 6(k)\n",
    "\n",
    "Using a complex SQL SELECT statement, we can count the number of predictions within + or - 1.0 and + or - 2.0 and then display the results as a pie chart.\n",
    "\n",
    "Perform the following steps:\n",
    "\n",
    "  - Run the following cell\n",
    "  - Click on the drop down next to the \"Bar chart\" icon a select \"Pie\" to turn the table into a Pie Chart plot\n",
    "  - Increase the size of the graph by clicking and dragging the size control"
   ]
  },
  {
   "cell_type": "code",
   "execution_count": null,
   "metadata": {
    "application/vnd.databricks.v1+cell": {
     "inputWidgets": {},
     "nuid": "0699b25c-0910-452d-8832-5d0f906629bd",
     "showTitle": false,
     "title": ""
    }
   },
   "outputs": [],
   "source": [
    "# %sql SELECT case when Within_RSME <= 1.0 AND Within_RSME >= -1.0 then 1\n",
    "#             when  Within_RSME <= 2.0 AND Within_RSME >= -2.0 then 2 else 3\n",
    "#        end RSME_Multiple, COUNT(*) AS count\n",
    "# FROM Power_Plant_RMSE_Evaluation\n",
    "# GROUP BY case when Within_RSME <= 1.0 AND Within_RSME >= -1.0 then 1  when  Within_RSME <= 2.0 AND Within_RSME >= -2.0 then 2 else 3 end"
   ]
  },
  {
   "cell_type": "markdown",
   "metadata": {
    "application/vnd.databricks.v1+cell": {
     "inputWidgets": {},
     "nuid": "340cd79d-d57d-4182-9558-7d6cc7699a44",
     "showTitle": false,
     "title": ""
    }
   },
   "source": [
    "From the pie chart, we can see that 68% of our test data predictions are within 1 RMSE of the actual values, and 97% (68% + 29%) of our test data predictions are within 2 RMSE. So the model is pretty decent. Let's see if we can tune the model to improve it further."
   ]
  },
  {
   "cell_type": "markdown",
   "metadata": {
    "application/vnd.databricks.v1+cell": {
     "inputWidgets": {},
     "nuid": "c9d639d2-bd0e-4b19-8fb9-c4f2d2787574",
     "showTitle": false,
     "title": ""
    }
   },
   "source": [
    "## Part 7: Tuning and Evaluation\n",
    "\n",
    "Now that we have a model with all of the data let's try to make a better model by tuning over several parameters. The process of tuning a model is known as [Model Selection](https://spark.apache.org/docs/1.6.2/api/python/pyspark.ml.html#module-pyspark.ml.tuning) or [Hyperparameter Tuning](https://spark.apache.org/docs/1.6.2/api/python/pyspark.ml.html#module-pyspark.ml.tuning), and Spark ML Pipeline makes the tuning process very simple and easy.\n",
    "\n",
    "An important task in ML is model selection, or using data to find the best model or parameters for a given task. This is also called tuning. Tuning may be done for individual Estimators such as [LinearRegression](https://spark.apache.org/docs/1.6.2/ml-classification-regression.html#linear-regression), or for entire Pipelines which include multiple algorithms, featurization, and other steps. Users can tune an entire Pipeline at once, rather than tuning each element in the Pipeline separately.\n",
    "\n",
    "Spark ML Pipeline supports model selection using tools such as [CrossValidator](https://spark.apache.org/docs/1.6.2/api/python/pyspark.ml.html#pyspark.ml.tuning.CrossValidator), which requires the following items:\n",
    "  - [Estimator](https://spark.apache.org/docs/1.6.2/api/python/pyspark.ml.html#pyspark.ml.Estimator): algorithm or Pipeline to tune\n",
    "  - [Set of ParamMaps](https://spark.apache.org/docs/1.6.2/api/python/pyspark.ml.html#pyspark.ml.tuning.ParamGridBuilder): parameters to choose from, sometimes called a _parameter grid_ to search over\n",
    "  - [Evaluator](https://spark.apache.org/docs/1.6.2/api/python/pyspark.ml.html#pyspark.ml.evaluation.Evaluator): metric to measure how well a fitted Model does on held-out test data\n",
    "\n",
    "At a high level, model selection tools such as [CrossValidator](https://spark.apache.org/docs/1.6.2/api/python/pyspark.ml.html#pyspark.ml.tuning.CrossValidator) work as follows:\n",
    "  - They split the input data into separate training and test datasets.\n",
    "  - For each (training, test) pair, they iterate through the set of ParamMaps:\n",
    "    - For each [ParamMap](https://spark.apache.org/docs/1.6.2/api/python/pyspark.ml.html#pyspark.ml.tuning.ParamGridBuilder), they fit the [Estimator](https://spark.apache.org/docs/1.6.2/api/python/pyspark.ml.html#pyspark.ml.Estimator) using those parameters, get the fitted Model, and evaluate the Model's performance using the [Evaluator](https://spark.apache.org/docs/1.6.2/api/python/pyspark.ml.html#pyspark.ml.evaluation.Evaluator).\n",
    "  - They select the Model produced by the best-performing set of parameters.\n",
    "\n",
    "The [Evaluator](https://spark.apache.org/docs/1.6.2/api/python/pyspark.ml.html#pyspark.ml.evaluation.Evaluator) can be a [RegressionEvaluator](https://spark.apache.org/docs/1.6.2/api/python/pyspark.ml.html#pyspark.ml.evaluation.RegressionEvaluator) for regression problems. To help construct the parameter grid, users can use the [ParamGridBuilder](https://spark.apache.org/docs/1.6.2/api/python/pyspark.ml.html#pyspark.ml.tuning.ParamGridBuilder) utility.\n",
    "\n",
    "Note that cross-validation over a grid of parameters is expensive. For example, in the next cell, the parameter grid has 10 values for [lr.regParam](https://spark.apache.org/docs/1.6.2/api/python/pyspark.ml.html#pyspark.ml.regression.LinearRegression.regParam), and [CrossValidator](https://spark.apache.org/docs/1.6.2/api/python/pyspark.ml.html#pyspark.ml.tuning.CrossValidator) uses 3 folds. This multiplies out to (10 x 3) = 30 different models being trained. In realistic settings, it can be common to try many more parameters (e.g., multiple values for multiple parameters) and use more folds (_k_ = 3 and _k_ = 10 are common). In other words, using [CrossValidator](https://spark.apache.org/docs/1.6.2/api/python/pyspark.ml.html#pyspark.ml.tuning.CrossValidator) can be very expensive. However, it is also a well-established method for choosing parameters which is more statistically sound than heuristic hand-tuning.\n",
    "\n",
    "We perform the following steps:\n",
    "  - Create a [CrossValidator](https://spark.apache.org/docs/1.6.2/api/python/pyspark.ml.html#pyspark.ml.tuning.CrossValidator) using the Pipeline and [RegressionEvaluator](https://spark.apache.org/docs/1.6.2/api/python/pyspark.ml.html#pyspark.ml.evaluation.RegressionEvaluator) that we created earlier, and set the number of folds to 3\n",
    "  - Create a list of 10 regularization parameters\n",
    "  - Use [ParamGridBuilder](https://spark.apache.org/docs/1.6.2/api/python/pyspark.ml.html#pyspark.ml.tuning.ParamGridBuilder) to build a parameter grid with the regularization parameters and add the grid to the [CrossValidator](https://spark.apache.org/docs/1.6.2/api/python/pyspark.ml.html#pyspark.ml.tuning.CrossValidator)\n",
    "  - Run the [CrossValidator](https://spark.apache.org/docs/1.6.2/api/python/pyspark.ml.html#pyspark.ml.tuning.CrossValidator) to find the parameters that yield the best model (i.e., lowest RMSE) and return the best model."
   ]
  },
  {
   "cell_type": "markdown",
   "metadata": {
    "application/vnd.databricks.v1+cell": {
     "inputWidgets": {},
     "nuid": "8a5cb350-160b-45e2-aed9-2dc44aaa7ef6",
     "showTitle": false,
     "title": ""
    }
   },
   "source": [
    "### Exercise 7(a)\n",
    "\n",
    "Run the next cell. _Note that it will take some time to run the [CrossValidator](https://spark.apache.org/docs/1.6.2/api/python/pyspark.ml.html#pyspark.ml.tuning.CrossValidator) as it will run almost 200 Spark jobs_"
   ]
  },
  {
   "cell_type": "code",
   "execution_count": null,
   "metadata": {
    "application/vnd.databricks.v1+cell": {
     "inputWidgets": {},
     "nuid": "18d187d9-9f1e-44b6-9d06-fe2a7b520fa7",
     "showTitle": false,
     "title": ""
    }
   },
   "outputs": [],
   "source": [
    "from pyspark.ml.tuning import ParamGridBuilder, CrossValidator\n",
    "\n",
    "# We can reuse the RegressionEvaluator, regEval, to judge the model based on the best Root Mean Squared Error\n",
    "# Let's create our CrossValidator with 3 fold cross validation\n",
    "crossval = CrossValidator(estimator=lrPipeline, evaluator=regEval, numFolds=3)\n",
    "\n",
    "# Let's tune over our regularization parameter from 0.01 to 0.10\n",
    "regParam = [x / 100.0 for x in range(1, 11)]\n",
    "\n",
    "# We'll create a paramter grid using the ParamGridBuilder, and add the grid to the CrossValidator\n",
    "paramGrid = (ParamGridBuilder()\n",
    "             .addGrid(lr.regParam, regParam)\n",
    "             .build())\n",
    "crossval.setEstimatorParamMaps(paramGrid)\n",
    "\n",
    "# Now let's find and return the best model\n",
    "cvModel = crossval.fit(trainingSetDF).bestModel"
   ]
  },
  {
   "cell_type": "markdown",
   "metadata": {
    "application/vnd.databricks.v1+cell": {
     "inputWidgets": {},
     "nuid": "21b8a94f-a63d-4533-91f8-6e35985ba3e4",
     "showTitle": false,
     "title": ""
    }
   },
   "source": [
    "### Exercise 7(b)\n",
    "\n",
    "Now that we have tuned our Linear Regression model, let's see what the new RMSE and \\\\(r^2\\\\) values are versus our intial model.\n",
    "\n",
    "Complete and run the next cell."
   ]
  },
  {
   "cell_type": "code",
   "execution_count": null,
   "metadata": {
    "application/vnd.databricks.v1+cell": {
     "inputWidgets": {},
     "nuid": "df12ce46-2901-40ce-abc6-061cd64dabe9",
     "showTitle": false,
     "title": ""
    },
    "deletable": false,
    "nbgrader": {
     "cell_type": "code",
     "checksum": "552c52712923f34a4a253137d77c509d",
     "grade": false,
     "grade_id": "predict_and_evaluate",
     "locked": false,
     "schema_version": 3,
     "solution": true,
     "task": false
    }
   },
   "outputs": [],
   "source": [
    "# TODO: Uncomment the following lines and replace <FILL_IN> with the appropriate code.\n",
    "\n",
    "# # Now let's use cvModel to compute an evaluation metric for our test dataset: testSetDF\n",
    "# predictionsAndLabelsDF = <FILL_IN>\n",
    "\n",
    "# # Run the previously created RMSE evaluator, regEval, on the predictionsAndLabelsDF DataFrame\n",
    "# rmseNew = <FILL_IN>\n",
    "\n",
    "# # Now let's compute the r2 evaluation metric for our test dataset\n",
    "# r2New = <FILL_IN>\n",
    "\n",
    "\n",
    "# YOUR CODE HERE\n",
    "raise NotImplementedError()\n",
    "\n",
    "\n",
    "print(\"Original Root Mean Squared Error: {0:2.2f}\".format(rmse))\n",
    "print(\"New Root Mean Squared Error: {0:2.2f}\".format(rmseNew))\n",
    "print(\"Old r2: {0:2.2f}\".format(r2))\n",
    "print(\"New r2: {0:2.2f}\".format(r2New))\n"
   ]
  },
  {
   "cell_type": "code",
   "execution_count": null,
   "metadata": {
    "application/vnd.databricks.v1+cell": {
     "inputWidgets": {},
     "nuid": "7b5d39d7-8860-4d56-9a6b-f03ddf50f3fd",
     "showTitle": false,
     "title": ""
    },
    "deletable": false,
    "editable": false,
    "nbgrader": {
     "cell_type": "code",
     "checksum": "28b5773504d12fe83636c31135933ca2",
     "grade": true,
     "grade_id": "predict_and_evaluate_test",
     "locked": true,
     "points": 1,
     "schema_version": 3,
     "solution": false,
     "task": false
    }
   },
   "outputs": [],
   "source": [
    "# TEST\n",
    "assert_equal(round(rmse, 2), 4.56, \"Incorrect value for rmse\")\n",
    "assert_equal(round(rmseNew, 2), 4.56, \"Incorrect value for rmseNew\")\n",
    "assert_equal(round(r2, 2), 0.93, \"Incorrect value for r2\")\n",
    "assert_equal(round(r2New, 2), 0.93, \"Incorrect value for r2New\")"
   ]
  },
  {
   "cell_type": "markdown",
   "metadata": {
    "application/vnd.databricks.v1+cell": {
     "inputWidgets": {},
     "nuid": "55722edd-22d7-41a0-a670-f57c92d79a2e",
     "showTitle": false,
     "title": ""
    }
   },
   "source": [
    "So our initial untuned and tuned linear regression models are identical. Let's look at the regularization parameter that the [CrossValidator](https://spark.apache.org/docs/1.6.2/api/python/pyspark.ml.html#pyspark.ml.tuning.CrossValidator) has selected.\n",
    "\n",
    "Recall that the orginal regularization parameter we used was 0.01.\n",
    "\n",
    "**NOTE**: The ML Python API currently doesn't provide a way to query the regularization parameter, so we cheat, by \"reaching through\" to the JVM version of the API."
   ]
  },
  {
   "cell_type": "code",
   "execution_count": null,
   "metadata": {
    "application/vnd.databricks.v1+cell": {
     "inputWidgets": {},
     "nuid": "d172a24a-157b-4405-b07c-2b5ae14fbcea",
     "showTitle": false,
     "title": ""
    }
   },
   "outputs": [],
   "source": [
    "print(\"Regularization parameter of the best model: {0:.2f}\".format(cvModel.stages[-1]._java_obj.parent().getRegParam()))"
   ]
  },
  {
   "cell_type": "markdown",
   "metadata": {
    "application/vnd.databricks.v1+cell": {
     "inputWidgets": {},
     "nuid": "9899da52-1efd-4e3f-afb6-b76a7881d835",
     "showTitle": false,
     "title": ""
    }
   },
   "source": [
    "### Exercise 7(c)\n",
    "\n",
    "Maybe we can try an [Ensemble Learning](https://en.wikipedia.org/wiki/Ensemble_learning) method. [Random forests](https://en.wikipedia.org/wiki/Random_forest) or random decision tree forests are an ensemble learning method for regression that operate by constructing a multitude of decision trees at training time and outputting the class that is the mean prediction (regression) of the individual trees. Random decision forests correct for decision trees' habit of overfitting to their training set.\n",
    "\n",
    "Spark ML Pipeline provides [RandomForestRegressor()](https://spark.apache.org/docs/1.6.2/api/python/pyspark.ml.html#pyspark.ml.regression.RandomForestRegressor) as an implementation of [Random forests](https://en.wikipedia.org/wiki/Random_forest).\n",
    "\n",
    "The cell below is based on the [Spark ML Pipeline API for Random Forest Regressor](https://spark.apache.org/docs/1.6.2/api/python/pyspark.ml.html#pyspark.ml.regression.RandomForestRegressor).\n",
    "\n",
    "- Read the [Random Forest Regressor](https://spark.apache.org/docs/1.6.2/api/python/pyspark.ml.html#pyspark.ml.regression.RandomForestRegressor) documentation\n",
    "- In the next cell, create a [RandomForestRegressor()](https://spark.apache.org/docs/1.6.2/api/python/pyspark.ml.html#pyspark.ml.regression.RandomForestRegressor)\n",
    "- The next step is to set the parameters for the method (we do this for you):\n",
    "  - Set the name of the prediction column to \"Predicted_PE\"\n",
    "  - Set the name of the features column to \"features\"\n",
    "  - Set the random number generator seed to 100088121L\n",
    "  - Set the maximum depth to 8\n",
    "  - Set the number of trees to 30\n",
    "- Create the [ML Pipeline](https://spark.apache.org/docs/1.6.2/api/python/pyspark.ml.html#pyspark.ml.Pipeline) and set the stages to the Vectorizer we created earlier and [RandomForestRegressor()](https://spark.apache.org/docs/1.6.2/api/python/pyspark.ml.html#pyspark.ml.regression.RandomForestRegressor) learner we just created."
   ]
  },
  {
   "cell_type": "code",
   "execution_count": null,
   "metadata": {
    "application/vnd.databricks.v1+cell": {
     "inputWidgets": {},
     "nuid": "15dfc72b-52ae-455c-866f-021434bead91",
     "showTitle": false,
     "title": ""
    },
    "deletable": false,
    "nbgrader": {
     "cell_type": "code",
     "checksum": "44db1a33568c773c1e06f54888b8136f",
     "grade": false,
     "grade_id": "random_forest",
     "locked": false,
     "schema_version": 3,
     "solution": true,
     "task": false
    }
   },
   "outputs": [],
   "source": [
    "# TODO: Uncomment the following lines and replace <FILL_IN> with the appropriate code.\n",
    "\n",
    "from pyspark.ml.regression import RandomForestRegressor\n",
    "\n",
    "# # Create a RandomForestRegressor\n",
    "# rf = <FILL_IN>\n",
    "\n",
    "# rf.setLabelCol(\"PE\")\\\n",
    "#   .setPredictionCol(\"Predicted_PE\")\\\n",
    "#   .setFeaturesCol(\"features\")\\\n",
    "#   .setSeed(100088121)\\\n",
    "#   .setMaxDepth(8)\\\n",
    "#   .setNumTrees(30)\n",
    "\n",
    "# # Create a Pipeline\n",
    "# rfPipeline = <FILL_IN>\n",
    "\n",
    "# # Set the stages of the Pipeline\n",
    "# rfPipeline.<FILL_IN>\n",
    "\n",
    "# YOUR CODE HERE\n",
    "raise NotImplementedError()\n"
   ]
  },
  {
   "cell_type": "code",
   "execution_count": null,
   "metadata": {
    "application/vnd.databricks.v1+cell": {
     "inputWidgets": {},
     "nuid": "8d726728-9a4e-4ca5-aa2e-4d9c8fa2baa2",
     "showTitle": false,
     "title": ""
    },
    "deletable": false,
    "editable": false,
    "nbgrader": {
     "cell_type": "code",
     "checksum": "531ca9980423e15c7a9bb002b7aefcdf",
     "grade": true,
     "grade_id": "random_forest_test",
     "locked": true,
     "points": 1,
     "schema_version": 3,
     "solution": false,
     "task": false
    }
   },
   "outputs": [],
   "source": [
    "# TEST\n",
    "\n",
    "assert_equal(rfPipeline.getStages()[0].__class__.__name__, 'VectorAssembler', \"Stage 0 of pipeline is not correct\")\n",
    "assert_equal(rfPipeline.getStages()[1].__class__.__name__, 'RandomForestRegressor', \"Stage 1 of pipeline is not correct\")"
   ]
  },
  {
   "cell_type": "markdown",
   "metadata": {
    "application/vnd.databricks.v1+cell": {
     "inputWidgets": {},
     "nuid": "0ee0651a-b159-4a2d-ab9b-d9e676cffb7b",
     "showTitle": false,
     "title": ""
    }
   },
   "source": [
    "### Exercise 7(d)\n",
    "\n",
    "Instead guessing what parameters to use, we will use [Model Selection](https://spark.apache.org/docs/1.6.2/api/python/pyspark.ml.html#module-pyspark.ml.tuning) or [Hyperparameter Tuning](https://spark.apache.org/docs/1.6.2/api/python/pyspark.ml.html#module-pyspark.ml.tuning) to create the best model.\n",
    "\n",
    "We can reuse the existing [CrossValidator](https://spark.apache.org/docs/1.6.2/api/python/pyspark.ml.html#pyspark.ml.tuning.CrossValidator) by replacing the Estimator with our new `rfPipeline` (the number of folds remains 3).\n",
    "\n",
    "- Use [ParamGridBuilder](https://spark.apache.org/docs/1.6.2/api/python/pyspark.ml.html#pyspark.ml.tuning.ParamGridBuilder) to build a parameter grid with the parameter `rf.maxBins` and a list of the values 50 and 100, and add the grid to the [CrossValidator](https://spark.apache.org/docs/1.6.2/api/python/pyspark.ml.html#pyspark.ml.tuning.CrossValidator)\n",
    "- Run the [CrossValidator](https://spark.apache.org/docs/1.6.2/api/python/pyspark.ml.html#pyspark.ml.tuning.CrossValidator) to find the parameters that yield the best model (i.e., lowest RMSE) and return the best model.\n",
    "\n",
    "_Note that it will take some time to run the [CrossValidator](https://spark.apache.org/docs/1.6.2/api/python/pyspark.ml.html#pyspark.ml.tuning.CrossValidator) as it will run almost 100 Spark jobs, and each job takes longer to run than the prior CrossValidator runs._"
   ]
  },
  {
   "cell_type": "code",
   "execution_count": null,
   "metadata": {
    "application/vnd.databricks.v1+cell": {
     "inputWidgets": {},
     "nuid": "ab8913fa-dd8e-485d-aa25-8d37de3572de",
     "showTitle": false,
     "title": ""
    },
    "deletable": false,
    "nbgrader": {
     "cell_type": "code",
     "checksum": "204215df185f11fcce1ae361db5a12aa",
     "grade": false,
     "grade_id": "param_builder",
     "locked": false,
     "schema_version": 3,
     "solution": true,
     "task": false
    }
   },
   "outputs": [],
   "source": [
    "# TODO: Uncomment the following lines and replace <FILL_IN> with the appropriate code.\n",
    "# # Let's just reuse our CrossValidator with the new rfPipeline,  RegressionEvaluator regEval, and 3 fold cross validation\n",
    "# crossval.setEstimator(rfPipeline)\n",
    "\n",
    "# # Let's tune over our rf.maxBins parameter on the values 50 and 100, create a parameter grid using the ParamGridBuilder\n",
    "# paramGrid = <FILL_IN>\n",
    "\n",
    "# # Add the grid to the CrossValidator\n",
    "# crossval.<FILL_IN>\n",
    "\n",
    "# # Now let's find and return the best model\n",
    "# rfModel = <FILL_IN>\n",
    "\n",
    "# YOUR CODE HERE\n",
    "raise NotImplementedError()\n",
    "\n"
   ]
  },
  {
   "cell_type": "code",
   "execution_count": null,
   "metadata": {
    "application/vnd.databricks.v1+cell": {
     "inputWidgets": {},
     "nuid": "4d52c628-0f0a-40f7-b3ba-3ed49a84651c",
     "showTitle": false,
     "title": ""
    },
    "deletable": false,
    "editable": false,
    "nbgrader": {
     "cell_type": "code",
     "checksum": "4429e33748cd4c6be8d3f9b1c42b2d81",
     "grade": true,
     "grade_id": "param_builder_test",
     "locked": true,
     "points": 1,
     "schema_version": 3,
     "solution": false,
     "task": false
    }
   },
   "outputs": [],
   "source": [
    "# TEST\n",
    "assert_equal(rfModel.stages[0].__class__.__name__, 'VectorAssembler', 'rfModel has incorrect stage 0')\n",
    "assert_equal(rfModel.stages[1].__class__.__name__, 'RandomForestRegressionModel', 'rfModel has incorrect stage 1')"
   ]
  },
  {
   "cell_type": "markdown",
   "metadata": {
    "application/vnd.databricks.v1+cell": {
     "inputWidgets": {},
     "nuid": "c69de8e2-f289-45ee-8e9c-9b2738ca8485",
     "showTitle": false,
     "title": ""
    }
   },
   "source": [
    "### Exercise 7(e)\n",
    "\n",
    "Now let's see how our tuned RandomForestRegressor model's RMSE and \\\\(r^2\\\\) values compare to our tuned LinearRegression model.\n",
    "\n",
    "Complete and run the next cell."
   ]
  },
  {
   "cell_type": "code",
   "execution_count": null,
   "metadata": {
    "application/vnd.databricks.v1+cell": {
     "inputWidgets": {},
     "nuid": "2eb03d59-4f38-4e57-8eaa-5f1e756ae489",
     "showTitle": false,
     "title": ""
    },
    "deletable": false,
    "nbgrader": {
     "cell_type": "code",
     "checksum": "0a1f65927033f2ae40cd95c1028b5793",
     "grade": false,
     "grade_id": "rf_evaluate",
     "locked": false,
     "schema_version": 3,
     "solution": true,
     "task": false
    }
   },
   "outputs": [],
   "source": [
    "# TODO: Uncomment the following lines and replace <FILL_IN> with the appropriate code.\n",
    "\n",
    "# # Now let's use rfModel to compute an evaluation metric for our test dataset: testSetDF\n",
    "# predictionsAndLabelsDF = <FILL_IN>\n",
    "\n",
    "# # Run the previously created RMSE evaluator, regEval, on the predictionsAndLabelsDF DataFrame\n",
    "# rmseRF = <FILL_IN>\n",
    "\n",
    "# # Now let's compute the r2 evaluation metric for our test dataset\n",
    "# r2RF = <FILL_IN>\n",
    "\n",
    "\n",
    "\n",
    "# YOUR CODE HERE\n",
    "raise NotImplementedError()\n",
    "\n",
    "print(\"LR Root Mean Squared Error: {0:.2f}\".format(rmseNew))\n",
    "print(\"RF Root Mean Squared Error: {0:.2f}\".format(rmseRF))\n",
    "print(\"LR r2: {0:.2f}\".format(r2New))\n",
    "print(\"RF r2: {0:.2f}\".format(r2RF))"
   ]
  },
  {
   "cell_type": "code",
   "execution_count": null,
   "metadata": {
    "application/vnd.databricks.v1+cell": {
     "inputWidgets": {},
     "nuid": "ae43e391-5a45-4dc0-adcc-906ddefee520",
     "showTitle": false,
     "title": ""
    },
    "deletable": false,
    "editable": false,
    "nbgrader": {
     "cell_type": "code",
     "checksum": "a7231047cc738b5215152c48bc2f80d7",
     "grade": true,
     "grade_id": "rf_evaluate_test",
     "locked": true,
     "points": 1,
     "schema_version": 3,
     "solution": false,
     "task": false
    }
   },
   "outputs": [],
   "source": [
    "# TEST\n",
    "assert_true(abs(round(rmseRF, 2) - 3.35) < 0.05, \"Incorrect value for rmseRF\")\n",
    "# assert_equal(round(rmseRF, 2), 3.4, \"Incorrect value for rmseRF\")\n",
    "assert_equal(round(r2RF, 2), 0.96, \"Incorrect value for r2RF\")"
   ]
  },
  {
   "cell_type": "markdown",
   "metadata": {
    "application/vnd.databricks.v1+cell": {
     "inputWidgets": {},
     "nuid": "42626c33-d051-43b9-ae5d-d3a7fc5d57ea",
     "showTitle": false,
     "title": ""
    }
   },
   "source": [
    "Note that the `r2` values are similar for all three. However, the RMSE for the Random Forest model is better."
   ]
  },
  {
   "cell_type": "markdown",
   "metadata": {
    "application/vnd.databricks.v1+cell": {
     "inputWidgets": {},
     "nuid": "3cfe05e7-240a-4681-b642-dc8b1e61d898",
     "showTitle": false,
     "title": ""
    }
   },
   "source": [
    "The line below will pull the Random Forest model from the Pipeline and display it as an if-then-else string.\n",
    "\n",
    "**ToDo**: Run the next cell"
   ]
  },
  {
   "cell_type": "code",
   "execution_count": null,
   "metadata": {
    "application/vnd.databricks.v1+cell": {
     "inputWidgets": {},
     "nuid": "215663d4-dbc5-4361-ac72-d1f0fda56da0",
     "showTitle": false,
     "title": ""
    }
   },
   "outputs": [],
   "source": [
    "print (rfModel.stages[-1]._java_obj.toDebugString())"
   ]
  },
  {
   "cell_type": "markdown",
   "metadata": {
    "application/vnd.databricks.v1+cell": {
     "inputWidgets": {},
     "nuid": "fd268a4f-010e-4aab-906b-8c11c0ac6e52",
     "showTitle": false,
     "title": ""
    }
   },
   "source": [
    "### Conclusion\n",
    "\n",
    "Wow! So our best model is in fact our Random Forest tree model which uses an ensemble of 30 Trees that consider 4 features at each split. Think about if this \"best\" model is good. How might we want to use it in the business problem?"
   ]
  },
  {
   "cell_type": "code",
   "execution_count": null,
   "metadata": {},
   "outputs": [],
   "source": []
  }
 ],
 "metadata": {
  "application/vnd.databricks.v1+notebook": {
   "dashboards": [],
   "language": "python",
   "notebookName": "hw1_coding_2",
   "notebookOrigID": 387339737325072,
   "widgets": {}
  },
  "kernelspec": {
   "display_name": "Python 3",
   "language": "python",
   "name": "python3"
  },
  "language_info": {
   "codemirror_mode": {
    "name": "ipython",
    "version": 3
   },
   "file_extension": ".py",
   "mimetype": "text/x-python",
   "name": "python",
   "nbconvert_exporter": "python",
   "pygments_lexer": "ipython3",
   "version": "3.7.9"
  }
 },
 "nbformat": 4,
 "nbformat_minor": 1
}
