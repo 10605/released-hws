{
 "cells": [
  {
   "cell_type": "markdown",
   "metadata": {},
   "source": [
    "# CMU 10-405/10-605 auto-graded notebook\n",
    "\n",
    "Before you turn this assignment in, make sure everything runs as expected. First, **restart the kernel** (in the menubar, select Kernel → Restart) and then **run all cells** (in the menubar, select Cell → Run All).\n",
    "\n",
    "Make sure you fill in any place that says `YOUR CODE HERE` or \"YOUR ANSWER HERE.\""
   ]
  },
  {
   "cell_type": "markdown",
   "metadata": {},
   "source": [
    "---"
   ]
  },
  {
   "cell_type": "markdown",
   "metadata": {},
   "source": [
    "#CMU 10405/10605 Machine Learning with Large Datasets\n",
    "\n",
    "## Homework 2 - Part 1:  Linear Regression"
   ]
  },
  {
   "cell_type": "code",
   "execution_count": null,
   "metadata": {
    "deletable": false,
    "nbgrader": {
     "cell_type": "code",
     "checksum": "fe60cd9540617cc2e184126ec775bb7a",
     "grade": false,
     "grade_id": "collaborators",
     "locked": false,
     "schema_version": 3,
     "solution": true,
     "task": false
    }
   },
   "outputs": [],
   "source": [
    "# Who did you collaborate with on this assignment? \n",
    "# if no one, collaborators should contain an empty string,\n",
    "# else list your collaborators below\n",
    "\n",
    "# collaborators = [\"\"]\n",
    "# YOUR CODE HERE\n",
    "raise NotImplementedError()"
   ]
  },
  {
   "cell_type": "code",
   "execution_count": null,
   "metadata": {
    "deletable": false,
    "editable": false,
    "nbgrader": {
     "cell_type": "code",
     "checksum": "ffcaa8876c47a435b66ee4040f051180",
     "grade": true,
     "grade_id": "testCollaborators",
     "locked": true,
     "points": 0,
     "schema_version": 3,
     "solution": false,
     "task": false
    }
   },
   "outputs": [],
   "source": [
    "try:\n",
    "    collaborators\n",
    "except:\n",
    "    raise AssertionError(\"you did not list your collaborators, if any\")   "
   ]
  },
  {
   "cell_type": "code",
   "execution_count": null,
   "metadata": {},
   "outputs": [],
   "source": [
    "# YOU CAN MOST LIKELY IGNORE THIS CELL. This is only of use for running this notebook locally.\n",
    "\n",
    "# THIS CELL DOES NOT NEED TO BE RUN ON DATABRICKS. \n",
    "# Note that Databricks already creates a SparkContext for you, so this cell can be skipped.\n",
    "import findspark\n",
    "findspark.init()\n",
    "import pyspark\n",
    "from pyspark.sql import SQLContext\n",
    "sc = pyspark.SparkContext(appName=\"hw\")\n",
    "sqlContext = SQLContext(sc)\n",
    "\n",
    "print(\"spark context started\")"
   ]
  },
  {
   "cell_type": "markdown",
   "metadata": {},
   "source": [
    "# Linear Regression\n",
    "\n",
    "This section covers a common supervised learning pipeline, using a subset of the [Million Song Dataset](http://labrosa.ee.columbia.edu/millionsong/) from the [UCI Machine Learning Repository](https://archive.ics.uci.edu/ml/datasets/YearPredictionMSD). Our goal is to train a linear regression model to predict the release year of a song given a set of audio features.\n",
    "\n",
    "## This section will cover:\n",
    "*  *Part 1:* Read and parse the initial dataset\n",
    "  * *Visualization 1:* Features\n",
    "  * *Visualization 2:* Shifting labels\n",
    "\n",
    "*  *Part 2:* Create and evaluate a baseline model\n",
    "  * *Visualization 3:* Predicted vs. actual\n",
    "\n",
    "*  *Part 3:* Train (via gradient descent) and evaluate a linear regression model\n",
    "  * *Visualization 4:* Training error\n",
    "\n",
    "*  *Part 4:* Train using SparkML and tune hyperparameters via grid search\n",
    "  * *Visualization 5:* Best model's predictions\n",
    "  * *Visualization 6:* Hyperparameter heat map\n",
    "\n",
    "*  *Part 5:* Add interactions between features\n",
    "\n",
    "> Note that, for reference, you can look up the details of:\n",
    "> * the relevant Spark methods in [Spark's RDD Python API](https://spark.apache.org/docs/latest/api/python/pyspark.html#pyspark.RDD), [Spark's DataFrame Python API](https://spark.apache.org/docs/latest/api/python/pyspark.sql.html#pyspark.sql.DataFrame) and [Sparks's Row API](https://spark.apache.org/docs/latest/api/python/pyspark.sql.html#pyspark.sql.Row)\n",
    "> * the relevant NumPy methods in the [NumPy Reference](http://docs.scipy.org/doc/numpy/reference/index.html)"
   ]
  },
  {
   "cell_type": "markdown",
   "metadata": {},
   "source": [
    "## Part 1: Read and parse the initial dataset"
   ]
  },
  {
   "cell_type": "markdown",
   "metadata": {},
   "source": [
    "### (1a) Load and check the data\n",
    "\n",
    "The raw data is currently stored in text file.  We will start by storing this raw data in as a DataFrame, with each element of the DataFrame representing a data point as a comma-delimited string. Each string starts with the label (a year) followed by numerical audio features. Your task is to \n",
    "\n",
    "1.  Use the DataFrame [count method](https://spark.apache.org/docs/latest/api/python/pyspark.sql.html#pyspark.sql.DataFrame.count) to check how many data points we have.  \n",
    "2. Then use the [take method](https://spark.apache.org/docs/latest/api/python/pyspark.sql.html#pyspark.sql.DataFrame.take) to create and print out a list of the first 5 data points in their initial string format."
   ]
  },
  {
   "cell_type": "code",
   "execution_count": null,
   "metadata": {},
   "outputs": [],
   "source": [
    "from pyspark import SparkFiles\n",
    "url = 'https://raw.githubusercontent.com/10605/data/master/hw2/millionsong.txt'\n",
    "sc.addFile(url)\n",
    "\n",
    "# Load the dataset from a file\n",
    "raw_data_df = sqlContext.read.load(\"file://\" + SparkFiles.get(\"millionsong.txt\"), 'text')"
   ]
  },
  {
   "cell_type": "code",
   "execution_count": null,
   "metadata": {
    "deletable": false,
    "nbgrader": {
     "cell_type": "code",
     "checksum": "ac944df2e96f0ba0b1e4b624a946e75e",
     "grade": false,
     "grade_id": "checkData",
     "locked": false,
     "schema_version": 3,
     "solution": true,
     "task": false
    }
   },
   "outputs": [],
   "source": [
    "# TODO: Uncomment the following lines and replace <FILL IN> with appropriate code\n",
    "# num_points = <FILL IN>\n",
    "# print (num_points)\n",
    "# sample_points = <FILL IN>\n",
    "# print (sample_points)\n",
    "\n",
    "# YOUR CODE HERE\n",
    "raise NotImplementedError()"
   ]
  },
  {
   "cell_type": "code",
   "execution_count": null,
   "metadata": {
    "deletable": false,
    "editable": false,
    "nbgrader": {
     "cell_type": "code",
     "checksum": "be13ccdbc6dd0885dc3b68a121563515",
     "grade": true,
     "grade_id": "test_checkData",
     "locked": true,
     "points": 1,
     "schema_version": 3,
     "solution": false,
     "task": false
    }
   },
   "outputs": [],
   "source": [
    "# TEST Load and check the data (1a)\n",
    "from nose.tools import assert_equal, assert_true\n",
    "assert_equal(num_points, 6724, 'incorrect value for num_points')\n",
    "assert_equal(len(sample_points), 5, 'incorrect length for sample_points')"
   ]
  },
  {
   "cell_type": "markdown",
   "metadata": {},
   "source": [
    "### (1b) Using `LabeledPoint`\n",
    "\n",
    "In MLlib, labeled training instances are stored using the [LabeledPoint](https://spark.apache.org/docs/latest/api/python/pyspark.mllib.html#pyspark.mllib.regression.LabeledPoint) object.  Write the `parse_points` function that takes, as input, a DataFrame of comma-separated strings. We'll pass it the `raw_data_df` DataFrame.\n",
    "\n",
    "It should parse each row in the DataFrame into individual elements, using Spark's [select](https://spark.apache.org/docs/latest/api/python/pyspark.sql.html#pyspark.sql.DataFrame.select) and [split](https://spark.apache.org/docs/latest/api/python/pyspark.sql.html#pyspark.sql.functions.split) methods.\n",
    "\n",
    "For example, split `\"2001.0,0.884,0.610,0.600,0.474,0.247,0.357,0.344,0.33,0.600,0.425,0.60,0.419\"` into `['2001.0', '0.884', '0.610', '0.600', '0.474', '0.247', '0.357', '0.344', '0.33', '0.600', '0.425', '0.60', '0.419']`.\n",
    "\n",
    "The first value in the resulting list (`2001.0` in the example, above) is the label. The remaining values (`0.884`, `0.610`, etc., in the example) are the features.\n",
    "\n",
    "After splitting each row, map it to a `LabeledPoint`. You'll have to step down to an RDD (using `.rdd`) or use a DataFrame user-defined function to convert to the `LabeledPoint` object. (See **Hint**, below.) If you step down to an RDD, you'll have to use [toDF()](https://spark.apache.org/docs/latest/api/python/pyspark.sql.html#pyspark.sql.DataFrame.toDF) to convert back to a DataFrame.\n",
    "\n",
    "Use this new `parse_points` function to parse `raw_data_df`.  Then print out the features and label for the first training point, using the `features` and `label` attributes. Finally, calculate the number of features for this dataset.\n",
    "\n",
    "## Hint: Running Arbitrary Lambdas on a DataFrame\n",
    "\n",
    "To solve this problem, you need a way to run your `parse_points` function on a DataFrame. There are two ways to do this, which we will illustrate with an extremely simple example.\n",
    "\n",
    "Suppose you have a DataFrame consisting of a first name and a last name, and you want to add a unique [SHA-256](https://en.wikipedia.org/wiki/Secure_Hash_Algorithm) hash to each row.\n",
    "\n",
    "```\n",
    "df = sqlContext.createDataFrame([(\"John\", \"Smith\"), (\"Ravi\", \"Singh\"), (\"Julia\", \"Jones\")], (\"first_name\", \"last_name\"))\n",
    "```\n",
    "\n",
    "Here's a simple function to calculate such a hash, using Python's built-in `hashlib` library:\n",
    "\n",
    "```\n",
    "def make_hash(first_name, last_name):\n",
    "    import hashlib\n",
    "    m = hashlib.sha256()\n",
    "    # Join the first name and last name by a blank and hash the resulting\n",
    "    # string.\n",
    "    full_name = ' '.join((first_name, last_name))\n",
    "    m.update(full_name)\n",
    "    return m.hexdigest()\n",
    "```\n",
    "\n",
    "Okay, that's great. But, how do we use it on our DataFrame? We can use a UDF:\n",
    "\n",
    "```\n",
    "from pyspark.sql.functions import udf\n",
    "u_make_hash = udf(make_hash)\n",
    "df2 = df.select(df['*'], u_make_hash(df['first_name'], df['last_name']))\n",
    "# could run df2.show() here to prove it works\n",
    "```\n",
    "\n",
    "Or we can step down to an RDD, use a lambda to call `make_hash` and have the lambda return a `Row` object, which Spark can use to [\"infer\" a new DataFrame](http://spark.apache.org/docs/latest/sql-programming-guide.html#inferring-the-schema-using-reflection).\n",
    "\n",
    "```\n",
    "from pyspark.sql import Row\n",
    "def make_hash_from_row(row):\n",
    "    hash = make_hash(row[0], row[1])\n",
    "    return Row(first_name=row[0], last_name=row[1], hash=hash)\n",
    "\n",
    "df2 = (df.rdd\n",
    "         .map(lambda row: make_hash_from_row(row))\n",
    "         .toDF())\n",
    "```\n",
    "\n",
    "These methods are roughly equivalent. \n",
    "\n",
    "Your task is to use something similar to convert _your_ `raw_data_df` DataFrame into a new DataFrame of `LabeledPoint` objects."
   ]
  },
  {
   "cell_type": "code",
   "execution_count": null,
   "metadata": {},
   "outputs": [],
   "source": [
    "from pyspark.mllib.regression import LabeledPoint\n",
    "import numpy as np\n",
    "\n",
    "# Here is a sample raw data point:\n",
    "# '2001.0,0.884,0.610,0.600,0.474,0.247,0.357,0.344,0.33,0.600,0.425,0.60,0.419'\n",
    "# In this raw data point, 2001.0 is the label, and the remaining values are features"
   ]
  },
  {
   "cell_type": "code",
   "execution_count": null,
   "metadata": {
    "deletable": false,
    "nbgrader": {
     "cell_type": "code",
     "checksum": "18af903313b571c9d4647f239efc6148",
     "grade": false,
     "grade_id": "parsePoints",
     "locked": false,
     "schema_version": 3,
     "solution": true,
     "task": false
    }
   },
   "outputs": [],
   "source": [
    "# TODO: Uncomment and replace <FILL IN> with appropriate code\n",
    "from pyspark.sql import functions as sql_functions\n",
    "\n",
    "def parse_points(df):\n",
    "    \"\"\"Converts a DataFrame of comma separated unicode strings into a DataFrame of `LabeledPoints`.\n",
    "\n",
    "    Args:\n",
    "        df: DataFrame where each row is a comma separated unicode string. The first element in the string\n",
    "            is the label and the remaining elements are the features.\n",
    "\n",
    "    Returns:\n",
    "        DataFrame: Each row is converted into a `LabeledPoint`, which consists of a label and\n",
    "            features. To convert an RDD to a DataFrame, simply call toDF().\n",
    "    \"\"\"\n",
    "#     return <FILL IN>\n",
    "\n",
    "    # YOUR CODE HERE\n",
    "    raise NotImplementedError()\n",
    "    \n",
    "    \n",
    "# parsed_points_df = <FILL IN>\n",
    "# first_point_features = <FILL IN>\n",
    "# first_point_label = <FILL IN>\n",
    "# print (first_point_features, first_point_label)\n",
    "\n",
    "# d = len(first_point_features)\n",
    "# print (d)\n",
    "\n",
    "# YOUR CODE HERE\n",
    "raise NotImplementedError()"
   ]
  },
  {
   "cell_type": "code",
   "execution_count": null,
   "metadata": {
    "deletable": false,
    "editable": false,
    "nbgrader": {
     "cell_type": "code",
     "checksum": "c6ca7e565910d0d6782d55962118a51c",
     "grade": true,
     "grade_id": "test_parsePoints",
     "locked": true,
     "points": 2,
     "schema_version": 3,
     "solution": false,
     "task": false
    }
   },
   "outputs": [],
   "source": [
    "# TEST Using LabeledPoint (1b)\n",
    "assert_true(isinstance(first_point_label, float), 'label must be a float')\n",
    "assert_true(np.allclose(first_point_label,2001.0, 1e-7), 'incorrect label for firstPointFeatures')\n",
    "expectedX0 = [0.8841,0.6105,0.6005,0.4747,0.2472,0.3573,0.3441,0.3396,0.6009,0.4257,0.6049,0.4192]\n",
    "assert_true(np.allclose(expectedX0, first_point_features, 1e-4, 1e-4),\n",
    "                'incorrect features for firstPointFeatures')"
   ]
  },
  {
   "cell_type": "markdown",
   "metadata": {},
   "source": [
    "### Visualization 1: Features\n",
    "\n",
    "First we will load and setup the visualization library. Then we will look at the raw features for 50 data points by generating a heatmap that visualizes each feature on a grey-scale and shows the variation of each feature across the 50 sample data points.  The features are all between 0 and 1, with values closer to 1 represented via darker shades of grey."
   ]
  },
  {
   "cell_type": "code",
   "execution_count": null,
   "metadata": {},
   "outputs": [],
   "source": [
    "import matplotlib.pyplot as plt\n",
    "import matplotlib.cm as cm\n",
    "\n",
    "# takeSample(withReplacement, num, [seed]) randomly selects num elements from the dataset with/without replacement, and has an\n",
    "# optional seed parameter that one can set for reproducible results\n",
    "\n",
    "data_values = (parsed_points_df\n",
    "               .rdd\n",
    "               .map(lambda lp: lp.features.toArray())\n",
    "               .takeSample(False, 50, 47))\n",
    "\n",
    "# You can uncomment the line below to see randomly selected features.  These will be randomly\n",
    "# selected each time you run the cell because there is no set seed.  Note that you should run\n",
    "# this cell with the line commented out when answering the lab quiz questions.\n",
    "# data_values = (parsedPointsDF\n",
    "#                .rdd\n",
    "#                .map(lambda lp: lp.features.toArray())\n",
    "#                .takeSample(False, 50))\n",
    "\n",
    "def prepare_plot(xticks, yticks, figsize=(10.5, 6), hideLabels=False, gridColor='#999999',\n",
    "                 gridWidth=1.0):\n",
    "    \"\"\"Template for generating the plot layout.\"\"\"\n",
    "    plt.close()\n",
    "    fig, ax = plt.subplots(figsize=figsize, facecolor='white', edgecolor='white')\n",
    "    ax.axes.tick_params(labelcolor='#999999', labelsize='10')\n",
    "    for axis, ticks in [(ax.get_xaxis(), xticks), (ax.get_yaxis(), yticks)]:\n",
    "        axis.set_ticks_position('none')\n",
    "        axis.set_ticks(ticks)\n",
    "        axis.label.set_color('#999999')\n",
    "        if hideLabels: axis.set_ticklabels([])\n",
    "    plt.grid(color=gridColor, linewidth=gridWidth, linestyle='-')\n",
    "    map(lambda position: ax.spines[position].set_visible(False), ['bottom', 'top', 'left', 'right'])\n",
    "    return fig, ax\n",
    "\n",
    "# generate layout and plot\n",
    "fig, ax = prepare_plot(np.arange(.5, 11, 1), np.arange(.5, 49, 1), figsize=(8,7), hideLabels=True,\n",
    "                       gridColor='#eeeeee', gridWidth=1.1)\n",
    "image = plt.imshow(data_values,interpolation='nearest', aspect='auto', cmap=cm.Greys)\n",
    "for x, y, s in zip(np.arange(-.125, 12, 1), np.repeat(-.75, 12), [str(x) for x in range(12)]):\n",
    "    plt.text(x, y, s, color='#999999', size='10')\n",
    "plt.text(4.7, -3, 'Feature', color='#999999', size='11'), ax.set_ylabel('Observation')\n",
    "display(fig)"
   ]
  },
  {
   "cell_type": "markdown",
   "metadata": {},
   "source": [
    "### (1c) Find the range\n",
    "\n",
    "Now let's examine the labels to find the range of song years. We will use the min and max functions that are native to the DataFrames, and thus can be optimized using Spark's Catalyst Optimizer and Project Tungsten (don't worry about the technical details). This code will run faster than simply using the native min and max functions in Python. \n",
    "\n",
    " Your task is to find the smallest and largest labels in the `parsed_points_df`. Use [selectExpr](https://spark.apache.org/docs/latest/api/python/pyspark.sql.html#pyspark.sql.DataFrame.selectExpr) to retrieve the min and max label values."
   ]
  },
  {
   "cell_type": "code",
   "execution_count": null,
   "metadata": {
    "deletable": false,
    "nbgrader": {
     "cell_type": "code",
     "checksum": "6584f0e1e8a22924f679329e3f492ebd",
     "grade": false,
     "grade_id": "yearRange",
     "locked": false,
     "schema_version": 3,
     "solution": true,
     "task": false
    }
   },
   "outputs": [],
   "source": [
    "# TODO: Replace <FILL IN> with appropriate code\n",
    "# content_stats = (parsed_points_df\n",
    "#                  .<FILL IN>)\n",
    "\n",
    "# min_year = <FILL IN>\n",
    "# max_year = <FILL IN>\n",
    "\n",
    "# YOUR CODE HERE\n",
    "raise NotImplementedError()\n",
    "\n",
    "\n",
    "# print (min_year, max_year)\n"
   ]
  },
  {
   "cell_type": "code",
   "execution_count": null,
   "metadata": {
    "deletable": false,
    "editable": false,
    "nbgrader": {
     "cell_type": "code",
     "checksum": "e250b74d7cc9ddf7f5ec7b335a560254",
     "grade": true,
     "grade_id": "test_yearRange",
     "locked": true,
     "points": 1,
     "schema_version": 3,
     "solution": false,
     "task": false
    }
   },
   "outputs": [],
   "source": [
    "# TEST Find the range (1c)\n",
    "assert_equal(len(parsed_points_df.first().features), 12,\n",
    "                  'unexpected number of features in sample point')\n",
    "sum_feat_two = parsed_points_df.rdd.map(lambda lp: lp.features[2]).sum()\n",
    "assert_true(np.allclose(sum_feat_two, 3158.96224351), 'parsedPointsDF has unexpected values')\n",
    "year_range = max_year - min_year\n",
    "assert_true(year_range == 89, 'incorrect range for minYear to maxYear')"
   ]
  },
  {
   "cell_type": "markdown",
   "metadata": {},
   "source": [
    "### (1d) Shift labels\n",
    "\n",
    "As we just saw, the labels are years in the 1900s and 2000s.  In learning problems, it is often natural to shift labels such that they start from zero.  \n",
    "\n",
    "Starting with `parsed_points_df`, create a new DataFrame in which the labels are shifted such that smallest label equals zero. Then rename the appropriate columns to `features` and `label`."
   ]
  },
  {
   "cell_type": "code",
   "execution_count": null,
   "metadata": {
    "deletable": false,
    "nbgrader": {
     "cell_type": "code",
     "checksum": "51d009bdb215c1033ee38de1abb3dc1e",
     "grade": false,
     "grade_id": "shiftLabels",
     "locked": false,
     "schema_version": 3,
     "solution": true,
     "task": false
    }
   },
   "outputs": [],
   "source": [
    "# TODO: Uncomment the following lines and replace <FILL IN> with appropriate code\n",
    "# parsed_data_df = parsed_points_df.<FILL IN>\n",
    "\n",
    "# # View the first point\n",
    "# print ('\\n{0}'.format(parsed_data_df.first()))\n",
    "\n",
    "# YOUR CODE HERE\n",
    "raise NotImplementedError()\n"
   ]
  },
  {
   "cell_type": "code",
   "execution_count": null,
   "metadata": {
    "deletable": false,
    "editable": false,
    "nbgrader": {
     "cell_type": "code",
     "checksum": "5f52aa111ee2cd7d057e1535bbba0ece",
     "grade": true,
     "grade_id": "test_shiftLabels",
     "locked": true,
     "points": 2,
     "schema_version": 3,
     "solution": false,
     "task": false
    }
   },
   "outputs": [],
   "source": [
    "# TEST Shift labels (1d)\n",
    "check_column_order = parsed_data_df.columns == ['features', 'label']\n",
    "assert_true(np.allclose(check_column_order, True), 'expected column order should be [features, label]')\n",
    "old_sample_features = parsed_points_df.first().features\n",
    "new_sample_features = parsed_data_df.first().features\n",
    "assert_true(np.allclose(old_sample_features, new_sample_features),\n",
    "                'new features do not match old features')\n",
    "sum_feat_two = parsed_data_df.rdd.map(lambda lp: lp.features[2]).sum()\n",
    "assert_true(np.allclose(sum_feat_two, 3158.96224351), 'parsed_data_df has unexpected values')\n",
    "min_year_new = parsed_data_df.groupBy().min('label').first()[0]\n",
    "max_year_new = parsed_data_df.groupBy().max('label').first()[0]\n",
    "assert_true(min_year_new == 0, 'incorrect min year in shifted data')\n",
    "assert_true(max_year_new == 89, 'incorrect max year in shifted data')"
   ]
  },
  {
   "cell_type": "markdown",
   "metadata": {},
   "source": [
    "### Visualization 2: Shifting labels\n",
    "\n",
    "We will look at the labels before and after shifting them.  Both scatter plots below visualize tuples storing:\n",
    "\n",
    "* a label value and\n",
    "* the number of training points with this label.\n",
    "\n",
    "The first scatter plot uses the initial labels, while the second one uses the shifted labels.  Note that the two plots look the same except for the labels on the x-axis."
   ]
  },
  {
   "cell_type": "code",
   "execution_count": null,
   "metadata": {},
   "outputs": [],
   "source": [
    "# get data for plot for old data\n",
    "old_data = (parsed_points_df\n",
    "             .rdd\n",
    "             .map(lambda lp: (lp.label, 1))\n",
    "             .reduceByKey(lambda x, y: x + y)\n",
    "             .collect())\n",
    "x, y = zip(*old_data)\n",
    "\n",
    "# generate layout and plot data\n",
    "fig, ax = prepare_plot(np.arange(1920, 2050, 20), np.arange(0, 150, 20))\n",
    "plt.scatter(x, y, s=14**2, c='#d6ebf2', edgecolors='#8cbfd0', alpha=0.75)\n",
    "ax.set_xlabel('Year'), ax.set_ylabel('Count')\n",
    "display(fig)"
   ]
  },
  {
   "cell_type": "code",
   "execution_count": null,
   "metadata": {},
   "outputs": [],
   "source": [
    "# get data for plot for new data\n",
    "new_data = (parsed_points_df\n",
    "             .rdd\n",
    "             .map(lambda lp: (lp.label, 1))\n",
    "             .reduceByKey(lambda x, y: x + y)\n",
    "             .collect())\n",
    "x, y = zip(*new_data)\n",
    "\n",
    "# generate layout and plot data\n",
    "fig, ax = prepare_plot(np.arange(0, 120, 20), np.arange(0, 120, 20))\n",
    "plt.scatter(x, y, s=14**2, c='#d6ebf2', edgecolors='#8cbfd0', alpha=0.75)\n",
    "ax.set_xlabel('Year (shifted)'), ax.set_ylabel('Count')\n",
    "display(fig)\n",
    "pass"
   ]
  },
  {
   "cell_type": "markdown",
   "metadata": {},
   "source": [
    "### (1e) Training, validation, and test sets\n",
    "\n",
    "We're almost done parsing our dataset. \n",
    "1. Your final task involves spliting the dataset into training, validation and test sets. Use the [randomSplit method](https://spark.apache.org/docs/latest/api/python/pyspark.sql.html#pyspark.sql.DataFrame.randomSplit) with the specified weights and seed to create DataFrames storing each of these datasets. \n",
    "2. Cache each of these DataFrames, as you will be accessing them multiple times in the remainder of this lab. \n",
    "3. Finally, compute the size of each dataset and verify that the sum of their sizes equals the value computed in Part (1a)."
   ]
  },
  {
   "cell_type": "code",
   "execution_count": null,
   "metadata": {
    "deletable": false,
    "nbgrader": {
     "cell_type": "code",
     "checksum": "08696155af8ac49105f058f6bad84bee",
     "grade": false,
     "grade_id": "splitData",
     "locked": false,
     "schema_version": 3,
     "solution": true,
     "task": false
    }
   },
   "outputs": [],
   "source": [
    "# TODO: Uncomment the following lines and replace <FILL IN> with appropriate code\n",
    "# weights = [.8, .1, .1]\n",
    "# seed = 42\n",
    "# parsed_train_data_df, parsed_val_data_df, parsed_test_data_df = parsed_data_df.<FILL IN>\n",
    "# parsed_train_data_df.<FILL IN>\n",
    "# parsed_val_data_df.<FILL IN>\n",
    "# parsed_test_data_df.<FILL IN>\n",
    "# n_train = parsed_train_data_df.<FILL IN>\n",
    "# n_val = parsed_val_data_df.<FILL IN>\n",
    "# n_test = parsed_test_data_df.<FILL IN>\n",
    "\n",
    "\n",
    "# YOUR CODE HERE\n",
    "raise NotImplementedError()\n",
    "\n",
    "print (n_train, n_val, n_test, n_train + n_val + n_test)\n",
    "print (parsed_data_df.count())\n"
   ]
  },
  {
   "cell_type": "code",
   "execution_count": null,
   "metadata": {
    "deletable": false,
    "editable": false,
    "nbgrader": {
     "cell_type": "code",
     "checksum": "cee479927c0bf15dff954cf3b0af0a7e",
     "grade": true,
     "grade_id": "test_splitData",
     "locked": true,
     "points": 2,
     "schema_version": 3,
     "solution": false,
     "task": false
    }
   },
   "outputs": [],
   "source": [
    "# TEST Training, validation, and test sets (1e)\n",
    "assert_equal(len(parsed_train_data_df.first().features), 12,\n",
    "                  'parsed_train_data_df has wrong number of features')\n",
    "sum_feat_two = (parsed_train_data_df\n",
    "                 .rdd\n",
    "                 .map(lambda lp: lp.features[2])\n",
    "                 .sum())\n",
    "sum_feat_three = (parsed_val_data_df\n",
    "                  .rdd\n",
    "                  .map(lambda lp: lp.features[3])\n",
    "                  .reduce(lambda x, y: x + y))\n",
    "sum_feat_four = (parsed_test_data_df\n",
    "                  .rdd\n",
    "                  .map(lambda lp: lp.features[4])\n",
    "                  .reduce(lambda x, y: x + y))\n",
    "assert_true(np.allclose([sum_feat_two, sum_feat_three, sum_feat_four],\n",
    "                            [2556.1542344080995, 266.2183689066131, 183.91965637035335]),\n",
    "                'parsed Train, Val, Test data has unexpected values')\n",
    "assert_true(n_train + n_val + n_test == 6724, 'unexpected Train, Val, Test data set size')\n",
    "assert_equal(n_train, 5437, 'unexpected value for nTrain')\n",
    "assert_equal(n_val, 612, 'unexpected value for nVal')\n",
    "assert_equal(n_test, 675, 'unexpected value for nTest')"
   ]
  },
  {
   "cell_type": "markdown",
   "metadata": {},
   "source": [
    "## Part 2: Create and evaluate a baseline model"
   ]
  },
  {
   "cell_type": "markdown",
   "metadata": {},
   "source": [
    "### (2a) Average label\n",
    "\n",
    "A very simple yet natural baseline model is one where we always make the same prediction independent of the given data point, using the average label in the training set as the constant prediction value.  Your task is to compute this value, which is the average (shifted) song year for the training set.  Use `selectExpr` and `first()` from the [DataFrame API](https://spark.apache.org/docs/latest/api/python/pyspark.sql.html#pyspark.sql.DataFrame) to complete your task."
   ]
  },
  {
   "cell_type": "code",
   "execution_count": null,
   "metadata": {
    "deletable": false,
    "nbgrader": {
     "cell_type": "code",
     "checksum": "b313dc323fdd2899ded2b8edeaa5c216",
     "grade": false,
     "grade_id": "baseline",
     "locked": false,
     "schema_version": 3,
     "solution": true,
     "task": false
    }
   },
   "outputs": [],
   "source": [
    "# TODO: Uncomment the following lines and replace <FILL IN> with appropriate code\n",
    "# average_train_year = (parsed_train_data_df\n",
    "#                         .<FILL IN>)\n",
    "\n",
    "# YOUR CODE HERE\n",
    "raise NotImplementedError()\n",
    "\n",
    "print (average_train_year)"
   ]
  },
  {
   "cell_type": "code",
   "execution_count": null,
   "metadata": {
    "deletable": false,
    "editable": false,
    "nbgrader": {
     "cell_type": "code",
     "checksum": "09476a2dc9db48a6260e01dc4c481d7c",
     "grade": true,
     "grade_id": "test_baseline",
     "locked": true,
     "points": 2,
     "schema_version": 3,
     "solution": false,
     "task": false
    }
   },
   "outputs": [],
   "source": [
    "# TEST Average label (2a)\n",
    "assert_true(np.allclose(average_train_year, 53.59518116608424),\n",
    "                'incorrect value for average_train_year')"
   ]
  },
  {
   "cell_type": "markdown",
   "metadata": {},
   "source": [
    "### (2b) Root mean squared error\n",
    "\n",
    "We naturally would like to see how well this naive baseline performs.  We will use root mean squared error ([RMSE](http://en.wikipedia.org/wiki/Root-mean-square_deviation)) for evaluation purposes.  Using [Regression Evaluator](http://spark.apache.org/docs/latest/api/python/pyspark.ml.html#pyspark.ml.evaluation.RegressionEvaluator), your task is to compute the RMSE given a dataset of _(prediction, label)_ tuples."
   ]
  },
  {
   "cell_type": "code",
   "execution_count": null,
   "metadata": {
    "deletable": false,
    "nbgrader": {
     "cell_type": "code",
     "checksum": "4e2f2306d6124721cde42760a4a14302",
     "grade": false,
     "grade_id": "RMSE_toy",
     "locked": false,
     "schema_version": 3,
     "solution": true,
     "task": false
    }
   },
   "outputs": [],
   "source": [
    "# TODO: Uncomment the following lines and replace <FILL IN> with appropriate code\n",
    "from pyspark.ml.evaluation import RegressionEvaluator\n",
    "\n",
    "preds_and_labels = [(1., 3.), (2., 1.), (2., 2.)]\n",
    "preds_and_labels_df = sqlContext.createDataFrame(preds_and_labels, [\"prediction\", \"label\"])\n",
    "\n",
    "\n",
    "# evaluator = <FILL IN>\n",
    "# YOUR CODE HERE\n",
    "raise NotImplementedError()\n",
    "\n",
    "def calc_RMSE(dataset):\n",
    "    \"\"\"Calculates the root mean squared error for an dataset of (prediction, label) tuples.\n",
    "\n",
    "    Args:\n",
    "        dataset (DataFrame of (float, float)): A `DataFrame` consisting of (prediction, label) tuples.\n",
    "\n",
    "    Returns:\n",
    "        float: The square root of the mean of the squared errors.\n",
    "    \"\"\"\n",
    "    # return evaluator.<FILL IN>\n",
    "    # YOUR CODE HERE\n",
    "    raise NotImplementedError()\n",
    "\n",
    "example_rmse = calc_RMSE(preds_and_labels_df)\n",
    "print (example_rmse)\n",
    "# RMSE = sqrt[((1-3)^2 + (2-1)^2 + (2-2)^2) / 3] = 1.291\n"
   ]
  },
  {
   "cell_type": "code",
   "execution_count": null,
   "metadata": {
    "deletable": false,
    "editable": false,
    "nbgrader": {
     "cell_type": "code",
     "checksum": "88bf54e02ebf5b062d255b22c9c0b43f",
     "grade": true,
     "grade_id": "test_RMSE_toy",
     "locked": true,
     "points": 2,
     "schema_version": 3,
     "solution": false,
     "task": false
    }
   },
   "outputs": [],
   "source": [
    "# TEST Root mean squared error (2b)\n",
    "assert_true(np.allclose(example_rmse, 1.2909944487358058), 'incorrect value for RMSE')"
   ]
  },
  {
   "cell_type": "markdown",
   "metadata": {},
   "source": [
    "### (2c) Training, validation and test RMSE\n",
    "\n",
    "Now let's calculate the training, validation and test RMSE of our baseline model. To do this, you should create DataFrames of _(prediction, label)_ tuples for each dataset, and then call `calc_RMSE()`. \n",
    "\n",
    "Note that each RMSE can be interpreted as the average prediction error for the given dataset (in terms of number of years). You can use [createDataFrame](https://spark.apache.org/docs/latest/api/python/pyspark.sql.html#pyspark.sql.SQLContext.createDataFrame) to create a DataFrame with the column names \"prediction\" and \"label\" from an RDD."
   ]
  },
  {
   "cell_type": "code",
   "execution_count": null,
   "metadata": {
    "deletable": false,
    "nbgrader": {
     "cell_type": "code",
     "checksum": "391a8babe3953dcdc2a7a03a675a2cad",
     "grade": false,
     "grade_id": "RMSE",
     "locked": false,
     "schema_version": 3,
     "solution": true,
     "task": false
    }
   },
   "outputs": [],
   "source": [
    "# TODO: Uncomment the following lines and replace <FILL IN> with appropriate code\n",
    "# preds_and_labels_train = parsed_train_data_df.<FILL IN>\n",
    "# Next, for 'preds_and_labels_train_df', use the function \n",
    "# createDataFrame to create a DataFrame with the column names \n",
    "# \"prediction\" and \"label\" from RDD 'preds_and_labels_train'.\n",
    "# preds_and_labels_train_df = <FILL IN>\n",
    "# rmse_train_base = <FILL IN>\n",
    "\n",
    "# preds_and_labels_val = parsed_val_data_df.<FILL IN>\n",
    "# preds_and_labels_val_df = <FILL IN>\n",
    "# rmse_val_base = <FILL IN>\n",
    "\n",
    "# preds_and_labels_test = parsed_test_data_df.<FILL IN>\n",
    "# preds_and_labels_test_df = <FILL IN>\n",
    "# rmse_test_base = <FILL IN>\n",
    "\n",
    "\n",
    "\n",
    "# YOUR CODE HERE\n",
    "raise NotImplementedError()\n",
    "\n",
    "print ('Baseline Train RMSE = {0:.3f}'.format(rmse_train_base))\n",
    "print ('Baseline Validation RMSE = {0:.3f}'.format(rmse_val_base))\n",
    "print ('Baseline Test RMSE = {0:.3f}'.format(rmse_test_base))\n"
   ]
  },
  {
   "cell_type": "code",
   "execution_count": null,
   "metadata": {
    "deletable": false,
    "editable": false,
    "nbgrader": {
     "cell_type": "code",
     "checksum": "f9903f17055b36f4678a98101afbb8da",
     "grade": true,
     "grade_id": "test_RMSE",
     "locked": true,
     "points": 2,
     "schema_version": 3,
     "solution": false,
     "task": false
    }
   },
   "outputs": [],
   "source": [
    "# TEST Training, validation and test RMSE (2c)\n",
    "assert_true(np.allclose([rmse_train_base, rmse_val_base, rmse_test_base],\n",
    "                            [21.466417064061876, 21.159492901731717, 21.27108361796124]), 'incorrect RMSE values')"
   ]
  },
  {
   "cell_type": "markdown",
   "metadata": {},
   "source": [
    "### Visualization 3: Predicted vs. actual\n",
    "\n",
    "We will visualize predictions on the validation dataset. The scatter plots below visualize tuples storing i) the predicted value and ii) true label.  The first scatter plot represents the ideal situation where the predicted value exactly equals the true label, while the second plot uses the baseline predictor (i.e., `average_train_year`) for all predicted values.  Further note that the points in the scatter plots are color-coded, ranging from light yellow when the true and predicted values are equal to bright red when they drastically differ."
   ]
  },
  {
   "cell_type": "code",
   "execution_count": null,
   "metadata": {},
   "outputs": [],
   "source": [
    "from matplotlib.colors import ListedColormap, Normalize\n",
    "from matplotlib.cm import get_cmap\n",
    "cmap = get_cmap('YlOrRd')\n",
    "norm = Normalize()\n",
    "\n",
    "def squared_error(lp):\n",
    "    \"\"\"Calculates the squared error for a single prediction.\"\"\"\n",
    "    label, prediction = lp\n",
    "    return float((label - prediction)**2)\n",
    "\n",
    "actual = np.asarray(parsed_val_data_df\n",
    "                    .select('label')\n",
    "                    .collect())\n",
    "error = np.asarray(parsed_val_data_df\n",
    "                   .rdd\n",
    "                   .map(lambda lp: (lp.label, lp.label))\n",
    "                   .map(lambda lp: squared_error(lp))\n",
    "                   .collect())\n",
    "clrs = cmap(np.asarray(norm(error)))[:,0:3]\n",
    "\n",
    "fig, ax = prepare_plot(np.arange(0, 100, 20), np.arange(0, 100, 20))\n",
    "plt.scatter(actual, actual, s=14**2, c=clrs, edgecolors='#888888', alpha=0.75, linewidths=0.5)\n",
    "ax.set_xlabel('Predicted'), ax.set_ylabel('Actual')\n",
    "display(fig)"
   ]
  },
  {
   "cell_type": "code",
   "execution_count": null,
   "metadata": {},
   "outputs": [],
   "source": [
    "def squared_error(lp):\n",
    "    \"\"\"Calculates the squared error for a single prediction.\"\"\"\n",
    "    label, prediction = lp\n",
    "    return float((label - prediction)**2)\n",
    "\n",
    "predictions = np.asarray(parsed_val_data_df\n",
    "                         .rdd\n",
    "                         .map(lambda lp: average_train_year)\n",
    "                         .collect())\n",
    "error = np.asarray(parsed_val_data_df\n",
    "                   .rdd\n",
    "                   .map(lambda lp: (lp.label, average_train_year))\n",
    "                   .map(lambda lp: squared_error(lp))\n",
    "                   .collect())\n",
    "norm = Normalize()\n",
    "clrs = cmap(np.asarray(norm(error)))[:,0:3]\n",
    "\n",
    "fig, ax = prepare_plot(np.arange(53.0, 55.0, 0.5), np.arange(0, 100, 20))\n",
    "ax.set_xlim(53, 55)\n",
    "plt.scatter(predictions, actual, s=14**2, c=clrs, edgecolors='#888888', alpha=0.75, linewidths=0.3)\n",
    "ax.set_xlabel('Predicted'), ax.set_ylabel('Actual')\n",
    "display(fig)"
   ]
  },
  {
   "cell_type": "markdown",
   "metadata": {},
   "source": [
    "## Part 3: Train (via gradient descent) and evaluate a linear regression model"
   ]
  },
  {
   "cell_type": "markdown",
   "metadata": {},
   "source": [
    "### (3a) Gradient summand\n",
    "\n",
    "Now let's see if we can do better via linear regression, training a model via gradient descent (we'll omit the intercept for now). Recall that the gradient descent update for linear regression is:\n",
    "\\\\[ \\scriptsize \\mathbf{w}_{i+1} = \\mathbf{w}_i - \\alpha_i \\sum_j (\\mathbf{w}_i^\\top\\mathbf{x}_j  - y_j) \\mathbf{x}_j \\,.\\\\]\n",
    "where \\\\( \\scriptsize i \\\\) is the iteration number of the gradient descent algorithm, \\\\( \\scriptsize j \\\\) identifies the observation, \\\\( \\scriptsize \\alpha \\\\) is the learning rate\n",
    "\n",
    "First, implement a function that computes the summand for this update, i.e., the summand equals \\\\( \\scriptsize (\\mathbf{w}^\\top \\mathbf{x} - y) \\mathbf{x} \\, ,\\\\) and test out this function on two examples.  Use the `DenseVector` [dot](http://spark.apache.org/docs/latest/api/python/pyspark.mllib.html#pyspark.mllib.linalg.DenseVector.dot) method."
   ]
  },
  {
   "cell_type": "code",
   "execution_count": null,
   "metadata": {},
   "outputs": [],
   "source": [
    "from pyspark.mllib.linalg import DenseVector"
   ]
  },
  {
   "cell_type": "code",
   "execution_count": null,
   "metadata": {
    "deletable": false,
    "nbgrader": {
     "cell_type": "code",
     "checksum": "5894952ae939293f40c3974cdb189dd8",
     "grade": false,
     "grade_id": "gradientSummand",
     "locked": false,
     "schema_version": 3,
     "solution": true,
     "task": false
    }
   },
   "outputs": [],
   "source": [
    "# TODO: Uncomment the following lines and replace <FILL IN> with appropriate code\n",
    "def gradient_summand(weights, lp):\n",
    "    \"\"\"Calculates the gradient summand for a given weight and `LabeledPoint`.\n",
    "\n",
    "    Note:\n",
    "        `DenseVector` behaves similarly to a `numpy.ndarray` and they can be used interchangably\n",
    "        within this function.  For example, they both implement the `dot` method.\n",
    "\n",
    "    Args:\n",
    "        weights (DenseVector): An array of model weights (betas).\n",
    "        lp (LabeledPoint): The `LabeledPoint` for a single observation.\n",
    "\n",
    "    Returns:\n",
    "        DenseVector: An array of values the same length as `weights`.  The gradient summand.\n",
    "    \"\"\"\n",
    "    # return <FILL IN>\n",
    "    # YOUR CODE HERE\n",
    "    raise NotImplementedError()\n",
    "\n",
    "example_w = DenseVector([1, 1, 1])\n",
    "example_lp = LabeledPoint(2.0, [3, 1, 4])\n",
    "# gradient_summand = (dot([1 1 1], [3 1 4]) - 2) * [3 1 4] = (8 - 2) * [3 1 4] = [18 6 24]\n",
    "summand_one = gradient_summand(example_w, example_lp)\n",
    "print (summand_one)\n",
    "\n",
    "example_w = DenseVector([.24, 1.2, -1.4])\n",
    "example_lp = LabeledPoint(3.0, [-1.4, 4.2, 2.1])\n",
    "summand_two = gradient_summand(example_w, example_lp)\n",
    "print (summand_two)\n"
   ]
  },
  {
   "cell_type": "code",
   "execution_count": null,
   "metadata": {
    "deletable": false,
    "editable": false,
    "nbgrader": {
     "cell_type": "code",
     "checksum": "17c28727d606f84834ea326ce7477399",
     "grade": true,
     "grade_id": "test_gradientSummand",
     "locked": true,
     "points": 2,
     "schema_version": 3,
     "solution": false,
     "task": false
    }
   },
   "outputs": [],
   "source": [
    "# TEST Gradient summand (3a)\n",
    "assert_true(np.allclose(summand_one, [18., 6., 24.]), 'incorrect value for summand_one')"
   ]
  },
  {
   "cell_type": "markdown",
   "metadata": {},
   "source": [
    "### (3b) Use weights to make predictions\n",
    "\n",
    "Next, implement a `get_labeled_predictions` function that takes in weights and an observation's `LabeledPoint` and returns a _(prediction, label)_ tuple.  Note that we can predict by computing the dot product between weights and an observation's features."
   ]
  },
  {
   "cell_type": "code",
   "execution_count": null,
   "metadata": {
    "deletable": false,
    "nbgrader": {
     "cell_type": "code",
     "checksum": "3815ccafc7dc6ee9728e8b095d2ed3d5",
     "grade": false,
     "grade_id": "getPrediction",
     "locked": false,
     "schema_version": 3,
     "solution": true,
     "task": false
    }
   },
   "outputs": [],
   "source": [
    "# TODO: Uncomment the following lines and replace <FILL IN> with appropriate code\n",
    "def get_labeled_prediction(weights, observation):\n",
    "    \"\"\"Calculates predictions and returns a (prediction, label) tuple.\n",
    "\n",
    "    Note:\n",
    "        The labels should remain unchanged as we'll use this information to calculate prediction\n",
    "        error later.\n",
    "\n",
    "    Args:\n",
    "        weights (np.ndarray): An array with one weight for each features in `trainData`.\n",
    "        observation (LabeledPoint): A `LabeledPoint` that contain the correct label and the\n",
    "            features for the data point.\n",
    "\n",
    "    Returns:\n",
    "        tuple: A (prediction, label) tuple. Convert the return type of the label and prediction to a float.\n",
    "    \"\"\"\n",
    "    # return <FILL IN>\n",
    "    # YOUR CODE HERE\n",
    "    raise NotImplementedError()\n",
    "\n",
    "\n",
    "weights = np.array([1.0, 1.5])\n",
    "prediction_example = sc.parallelize([LabeledPoint(2, np.array([1.0, .5])),\n",
    "                                     LabeledPoint(1.5, np.array([.5, .5]))])\n",
    "preds_and_labels_example = prediction_example.map(lambda lp: get_labeled_prediction(weights, lp))\n",
    "print (preds_and_labels_example.collect())\n",
    "\n",
    "\n",
    "\n"
   ]
  },
  {
   "cell_type": "code",
   "execution_count": null,
   "metadata": {
    "deletable": false,
    "editable": false,
    "nbgrader": {
     "cell_type": "code",
     "checksum": "cd4c3fe7287b4ed7d3045db02a603fed",
     "grade": true,
     "grade_id": "test_getPrediction",
     "locked": true,
     "points": 2,
     "schema_version": 3,
     "solution": false,
     "task": false
    }
   },
   "outputs": [],
   "source": [
    "# TEST Use weights to make predictions (3b)\n",
    "assert_true(isinstance(preds_and_labels_example.first()[0], float), 'prediction must be a float')\n",
    "assert_equal(preds_and_labels_example.collect(), [(1.75, 2.0), (1.25, 1.5)],\n",
    "                  'incorrect definition for getLabeledPredictions')"
   ]
  },
  {
   "cell_type": "markdown",
   "metadata": {},
   "source": [
    "### (3c) Gradient descent\n",
    "\n",
    "Next, implement a gradient descent function for linear regression and test out this function on an example."
   ]
  },
  {
   "cell_type": "code",
   "execution_count": null,
   "metadata": {
    "deletable": false,
    "nbgrader": {
     "cell_type": "code",
     "checksum": "75c44989c2b80bf7cfaeb1a5bd9efeac",
     "grade": false,
     "grade_id": "gradientDescent",
     "locked": false,
     "schema_version": 3,
     "solution": true,
     "task": false
    }
   },
   "outputs": [],
   "source": [
    "# TODO: Uncomment the follosing lines and replace <FILL IN> with appropriate code\n",
    "def linreg_gradient_descent(train_data, num_iters):\n",
    "    \"\"\"Calculates the weights and error for a linear regression model trained with gradient descent.\n",
    "\n",
    "    Note:\n",
    "        `DenseVector` behaves similarly to a `numpy.ndarray` and they can be used interchangably\n",
    "        within this function.  For example, they both implement the `dot` method.\n",
    "\n",
    "    Args:\n",
    "        train_data (RDD of LabeledPoint): The labeled data for use in training the model.\n",
    "        num_iters (int): The number of iterations of gradient descent to perform.\n",
    "\n",
    "    Returns:\n",
    "        (np.ndarray, np.ndarray): A tuple of (weights, training errors).  Weights will be the\n",
    "            final weights (one weight per feature) for the model, and training errors will contain\n",
    "            an error (RMSE) for each iteration of the algorithm.\n",
    "    \"\"\"\n",
    "    # The length of the training data\n",
    "    n = train_data.count()\n",
    "    # The number of features in the training data\n",
    "    d = len(train_data.first().features)\n",
    "    w = np.zeros(d)\n",
    "    # learning rate\n",
    "    alpha = 1.0\n",
    "    # You will compute and store the training error after each iteration\n",
    "    error_train = np.zeros(num_iters)\n",
    "    #     for i in range(num_iters):\n",
    "#   Do the gradient descent for num_iters iterations and for each iteration, follow the steps:\n",
    "#    [1] Use get_labeled_prediction from (3b) with trainData to obtain an RDD of (label, prediction)\n",
    "#        tuples. Then create a Dataframe with 'predictions' and 'label' from preds_and_labels_train.\n",
    "#        **Hint** Similar to 2c.\n",
    "#        Note that the weights all equal 0 for the first iteration, so the predictions will\n",
    "#        have large errors to start.\n",
    "#         preds_and_labels_train = <FILL IN>\n",
    "#         preds_and_labels_train_df = <FILL IN>\n",
    "#    [2] Update i_th train error by using calc_RMSE for the current(i_th) iteration\n",
    "#         error_train[i] = <FILL IN>\n",
    "#    [3] Calculate the `gradient`.  Make use of the `gradient_summand` function you wrote in (3a).\n",
    "#       Note that `gradient` should be a `DenseVector` of length `d`.\n",
    "#         gradient = <FILL IN>\n",
    "#    [4] Decay the learning rate using (uncomment the below line):\n",
    "#         alpha_i = alpha / (n * np.sqrt(i+1))\n",
    "#    [5] Update the weights using alpha_i\n",
    "#         w -= <FILL IN>\n",
    "#     return w, error_train\n",
    "  \n",
    "    # YOUR CODE HERE\n",
    "    raise NotImplementedError()\n",
    "\n",
    "# create a toy dataset with n = 10, d = 3, and then run 5 iterations of gradient descent\n",
    "# note: the resulting model will not be useful; the goal here is to verify that\n",
    "# linreg_gradient_descent is working properly\n",
    "example_n = 10 # data points\n",
    "example_d = 3  # features\n",
    "example_data = (sc\n",
    "                 .parallelize(parsed_train_data_df.take(example_n))\n",
    "                 .map(lambda lp: LabeledPoint(lp.label, lp.features[0:example_d])))\n",
    "print (example_data.take(2))\n",
    "example_num_iters = 5\n",
    "example_weights, example_error_train = linreg_gradient_descent(example_data, example_num_iters)\n",
    "print (example_weights)\n"
   ]
  },
  {
   "cell_type": "code",
   "execution_count": null,
   "metadata": {
    "deletable": false,
    "editable": false,
    "nbgrader": {
     "cell_type": "code",
     "checksum": "41b90124c77195597a70c705fff11f6b",
     "grade": true,
     "grade_id": "test_gradientDescent",
     "locked": true,
     "points": 4,
     "schema_version": 3,
     "solution": false,
     "task": false
    }
   },
   "outputs": [],
   "source": [
    "# TEST Gradient descent (3c)\n",
    "\n",
    "expected_output = [ 4.33247264, 33.15818324, 17.87338995]\n",
    "assert_true(np.allclose(example_weights, expected_output), 'value of example_weights is incorrect')\n",
    "expected_error = [43.34166587, 36.99254897, 34.47990014, 33.12921281, 32.30150161]\n",
    "assert_true(np.allclose(example_error_train, expected_error),\n",
    "                'value of exampleErrorTrain is incorrect')"
   ]
  },
  {
   "cell_type": "markdown",
   "metadata": {},
   "source": [
    "### (3d) Train the model\n",
    "\n",
    "Now let's train a linear regression model on all of our training data and evaluate its accuracy on the validation set.  Note that the test set will not be used here.  If we evaluated the model on the test set, we would bias our final results.\n",
    "\n",
    "We've already done much of the required work: we computed the number of features in Part (1b); we created the training and validation datasets and computed their sizes in Part (1e); and, we wrote a function to compute RMSE in Part (2b)."
   ]
  },
  {
   "cell_type": "code",
   "execution_count": null,
   "metadata": {
    "deletable": false,
    "nbgrader": {
     "cell_type": "code",
     "checksum": "c4a94626f49cfc76961f97d638983d6a",
     "grade": false,
     "grade_id": "trainModel",
     "locked": false,
     "schema_version": 3,
     "solution": true,
     "task": false
    }
   },
   "outputs": [],
   "source": [
    "# TODO: Uncomment the following lines and replace <FILL IN> with appropriate code\n",
    "# num_iters = 30\n",
    "# weights_LR, error_train_LR = linreg_gradient_descent(<FILL IN>)\n",
    "\n",
    "# preds_and_labels = (parsed_val_data_df\n",
    "#                       .<FILL IN>)\n",
    "# preds_and_labels_df = .<FILL IN>\n",
    "# rmse_val_LR0 = calc_RMSE(preds_and_labels_df)\n",
    "\n",
    "# print ('Validation RMSE:\\n\\tBaseline = {0:.3f}\\n\\tLR0 = {1:.3f}'.format(rmse_val_base,\n",
    "#                                                                        rmse_val_LR0))\n",
    "\n",
    "# YOUR CODE HERE\n",
    "raise NotImplementedError()\n"
   ]
  },
  {
   "cell_type": "code",
   "execution_count": null,
   "metadata": {
    "deletable": false,
    "editable": false,
    "nbgrader": {
     "cell_type": "code",
     "checksum": "5904e574463d6f7a898002e76f67c35b",
     "grade": true,
     "grade_id": "test_trainingModel",
     "locked": true,
     "points": 2,
     "schema_version": 3,
     "solution": false,
     "task": false
    }
   },
   "outputs": [],
   "source": [
    "# TEST Train the model (3d)\n",
    "expected_output =[20.38822921, 18.37081975,  1.65771419,  8.07448229, 5.55803544, -1.81674641,\n",
    " 13.80673629,  4.92861749, 10.06643157,  6.57597723, 10.58621883, 4.92736118]\n",
    "assert_true(np.allclose(weights_LR, expected_output), 'incorrect value for weights_LR')\n"
   ]
  },
  {
   "cell_type": "markdown",
   "metadata": {},
   "source": [
    "### Visualization 4: Training error\n",
    "\n",
    "We will look at the log of the training error as a function of iteration. The first scatter plot visualizes the logarithm of the training error for all 50 iterations.  The second plot shows the training error itself, focusing on the final 44 iterations."
   ]
  },
  {
   "cell_type": "code",
   "execution_count": null,
   "metadata": {},
   "outputs": [],
   "source": [
    "norm = Normalize()\n",
    "clrs = cmap(np.asarray(norm(np.log(error_train_LR))))[:,0:3]\n",
    "\n",
    "fig, ax = prepare_plot(np.arange(0, 60, 10), np.arange(2, 6, 1))\n",
    "ax.set_ylim(2, 6)\n",
    "plt.scatter(range(0, num_iters), np.log(error_train_LR), s=14**2, c=clrs, edgecolors='#888888', alpha=0.75)\n",
    "ax.set_xlabel('Iteration'), ax.set_ylabel(r'$\\log_e(errorTrainLR0)$')\n",
    "display(fig)"
   ]
  },
  {
   "cell_type": "code",
   "execution_count": null,
   "metadata": {},
   "outputs": [],
   "source": [
    "norm = Normalize()\n",
    "clrs = cmap(np.asarray(norm(error_train_LR[6:])))[:,0:3]\n",
    "\n",
    "fig, ax = prepare_plot(np.arange(0, 60, 10), np.arange(17, 22, 1))\n",
    "ax.set_ylim(17.8, 21.2)\n",
    "plt.scatter(range(0, num_iters-6), error_train_LR[6:], s=14**2, c=clrs, edgecolors='#888888', alpha=0.75)\n",
    "ax.set_xticklabels(map(str, range(6, 66, 10)))\n",
    "ax.set_xlabel('Iteration'), ax.set_ylabel(r'Training Error')\n",
    "display(fig)"
   ]
  },
  {
   "cell_type": "markdown",
   "metadata": {},
   "source": [
    "## Part 4: Train using SparkML and perform grid search"
   ]
  },
  {
   "cell_type": "markdown",
   "metadata": {},
   "source": [
    "### (4a) `LinearRegression`\n",
    "We're already doing better than the baseline model, but let's see if we can do better by adding an intercept, using regularization, and (based on the previous visualization) training for more iterations. MLlib's [LinearRegressionWithSGD](https://spark.apache.org/docs/latest/api/python/pyspark.mllib.html#pyspark.mllib.regression.LinearRegressionWithSGD) essentially applys same idea that we used in Part (3b), albeit using stochastic gradient approximation and more efficiently with various additional functionality including an intercept in the model and also allowing L1 or L2 regularization.\n",
    "\n",
    "First use [LinearRegressionWithSGD](https://spark.apache.org/docs/latest/api/python/pyspark.mllib.html#pyspark.mllib.regression.LinearRegressionWithSGD) to train a model with L2 regularization and with an intercept. This method returns a LinearRegressionModel. Next, use the model's weights (ex model.weights) and intercept (ex model.intercept) attributes to print out the model's parameters"
   ]
  },
  {
   "cell_type": "code",
   "execution_count": null,
   "metadata": {},
   "outputs": [],
   "source": [
    "from pyspark.mllib.regression import LinearRegressionWithSGD\n",
    "# Values to use when training the linear regression model\n",
    "numIters = 500  # iterations\n",
    "alpha = 1.0  # step\n",
    "miniBatchFrac = 1.0  # miniBatchFraction\n",
    "reg = 1e-1  # regParam\n",
    "regType = 'l2'  # regType\n",
    "useIntercept = True  # intercept"
   ]
  },
  {
   "cell_type": "code",
   "execution_count": null,
   "metadata": {
    "deletable": false,
    "nbgrader": {
     "cell_type": "code",
     "checksum": "351df1595861ae4b2747174b6da42af4",
     "grade": false,
     "grade_id": "LR",
     "locked": false,
     "schema_version": 3,
     "solution": true,
     "task": false
    }
   },
   "outputs": [],
   "source": [
    "# TODO: Uncomment the following lines and replace <FILL IN> with appropriate code\n",
    "\n",
    "# # The data parameter takes in the training data that is an RDD of LabeledPoint. \n",
    "# # You may want to transform parsed_train_data_df to required type via map.\n",
    "# first_model = LinearRegressionWithSGD.train(data=<FILL IN>), \n",
    "#                                            iterations=<FILL IN>, \n",
    "#                                            step=<FILL IN>, \n",
    "#                                            miniBatchFraction=<FILL IN>, \n",
    "#                                            initialWeights=None, \n",
    "#                                            regParam=<FILL IN>, \n",
    "#                                            regType=<FILL IN>, \n",
    "#                                            intercept=<FILL IN> \n",
    "#                                            )\n",
    "\n",
    "# # coeffsLR1 stores the model coefficients; interceptLR1 stores the model intercept\n",
    "# coeffs_LR1 = <FILL IN>\n",
    "# intercept_LR1 = <FILL IN>\n",
    "# print (coeffs_LR1, intercept_LR1)\n",
    "\n",
    "\n",
    "# YOUR CODE HERE\n",
    "raise NotImplementedError()\n"
   ]
  },
  {
   "cell_type": "code",
   "execution_count": null,
   "metadata": {
    "deletable": false,
    "editable": false,
    "nbgrader": {
     "cell_type": "code",
     "checksum": "3fad74f616f86f583301ed11382b23fe",
     "grade": true,
     "grade_id": "test_LR",
     "locked": true,
     "points": 2,
     "schema_version": 3,
     "solution": false,
     "task": false
    }
   },
   "outputs": [],
   "source": [
    "# TEST LinearRegression (4a)\n",
    "expected_intercept = 13.35240091187086\n",
    "expected_weights= [15.803493878440253,14.257597193648554,0.5687980903798003,5.998657871950593,3.8848794976051675,-2.267933679064589,10.47064217285669,3.089797392891599,7.2098230365746,4.584259775363974,7.670266229374442,3.149991806531069]\n",
    "assert_true(np.allclose(intercept_LR1, expected_intercept), 'incorrect value for intercept_LR1')\n",
    "assert_true(np.allclose(coeffs_LR1, expected_weights), 'incorrect value for coeffs_LR1')"
   ]
  },
  {
   "cell_type": "markdown",
   "metadata": {},
   "source": [
    "### (4b) Predict\n",
    "\n",
    "Now use the [LinearRegressionModel.predict()](http://spark.apache.org/docs/latest/api/python/pyspark.mllib.html#pyspark.mllib.regression.LinearRegressionModel.predict) method to make a prediction on a sample point. Pass the features from a LabeledPoint into the predict() method"
   ]
  },
  {
   "cell_type": "code",
   "execution_count": null,
   "metadata": {
    "deletable": false,
    "nbgrader": {
     "cell_type": "code",
     "checksum": "ec40d3d6f106a2101061dcd0c4a9d682",
     "grade": false,
     "grade_id": "predict_LR",
     "locked": false,
     "schema_version": 3,
     "solution": true,
     "task": false
    }
   },
   "outputs": [],
   "source": [
    "# TODO: Uncomment the following lines and replace <FILL IN> with appropriate code\n",
    "# samplePoint = parsed_train_data_df.take(1)[0]\n",
    "# sample_prediction = first_model.<FILL IN>\n",
    "# print (sample_prediction)\n",
    "\n",
    "# YOUR CODE HERE\n",
    "raise NotImplementedError()\n"
   ]
  },
  {
   "cell_type": "code",
   "execution_count": null,
   "metadata": {
    "deletable": false,
    "editable": false,
    "nbgrader": {
     "cell_type": "code",
     "checksum": "5cd6003488487c4495ec1bfe5b284d71",
     "grade": true,
     "grade_id": "test_predict_LR",
     "locked": true,
     "points": 2,
     "schema_version": 3,
     "solution": false,
     "task": false
    }
   },
   "outputs": [],
   "source": [
    "# TEST Predict (4b)\n",
    "assert_true(np.allclose(sample_prediction, 39.87645731068798),\n",
    "                'incorrect value for sample_prediction')"
   ]
  },
  {
   "cell_type": "markdown",
   "metadata": {},
   "source": [
    "### (4c) Evaluate RMSE\n",
    "\n",
    "Next evaluate the accuracy of this model on the validation set.  First, map [LinearRegressionModel.predict()](http://spark.apache.org/docs/latest/api/python/pyspark.mllib.html#pyspark.mllib.regression.LinearRegressionModel.predict) method on features in parsed_val_data_df to get labelsAndPreds. Create a dataframe based on that and then use the `calc_RMSE()` function from Part (2b)."
   ]
  },
  {
   "cell_type": "code",
   "execution_count": null,
   "metadata": {
    "deletable": false,
    "nbgrader": {
     "cell_type": "code",
     "checksum": "91a269588ca78591026058a7026ad46f",
     "grade": false,
     "grade_id": "evaluateRMSE",
     "locked": false,
     "schema_version": 3,
     "solution": true,
     "task": false
    }
   },
   "outputs": [],
   "source": [
    "# TODO: Uncomment the following lines and replace <FILL IN> with appropriate code\n",
    "# labels_and_preds = parsed_val_data_df.rdd.map(lambda lp: (lp.label, float(<FILL IN>)))\n",
    "    \n",
    "# labels_and_preds_df = <FILL IN>\n",
    "\n",
    "# rmse_val_LR1 = <FILL IN>\n",
    "\n",
    "# YOUR CODE HERE\n",
    "raise NotImplementedError()\n",
    "\n",
    "\n",
    "print(rmse_val_LR1)\n",
    "\n"
   ]
  },
  {
   "cell_type": "code",
   "execution_count": null,
   "metadata": {
    "deletable": false,
    "editable": false,
    "nbgrader": {
     "cell_type": "code",
     "checksum": "66705e34090bb9d7cdc7171357fe5c79",
     "grade": true,
     "grade_id": "test_evaluateRMSE",
     "locked": true,
     "points": 2,
     "schema_version": 3,
     "solution": false,
     "task": false
    }
   },
   "outputs": [],
   "source": [
    "# TEST Evaluate RMSE (4c)\n",
    "assert_true(np.allclose(rmse_val_LR1, 19.304221136479025), 'incorrect value for rmseValLR1')"
   ]
  },
  {
   "cell_type": "markdown",
   "metadata": {},
   "source": [
    "### (4d) Grid search\n",
    "\n",
    "We're already outperforming the baseline on the validation set by almost 2 years on average, but let's see if we can do better. Perform grid search to find a good regularization parameter.  Try `regParam` values `1e-10`, `1e-5`, and `1.0`."
   ]
  },
  {
   "cell_type": "code",
   "execution_count": null,
   "metadata": {
    "deletable": false,
    "nbgrader": {
     "cell_type": "code",
     "checksum": "4f1950715656570689ce4385cc13bc45",
     "grade": false,
     "grade_id": "bestRMSE",
     "locked": false,
     "schema_version": 3,
     "solution": true,
     "task": false
    }
   },
   "outputs": [],
   "source": [
    "# TODO: Uncomment the following lines and replace <FILL IN> with appropriate code\n",
    "best_RMSE = rmse_val_LR1\n",
    "best_reg_param = reg\n",
    "best_model = first_model\n",
    "regType = 'l2'  # regType\n",
    "useIntercept = True  # intercept\n",
    "num_iters = 500  # iterations\n",
    "alpha = 1.0 # step\n",
    "miniBatchFrac = 1.0\n",
    "\n",
    "# for reg in <FILL IN>:\n",
    "#     model = LinearRegressionWithSGD.train(<FILL IN>)\n",
    "\n",
    "#     labels_and_preds = parsed_val_data_df.rdd.map(lambda lp: (lp.label, float(<FILL IN>)))\n",
    "    \n",
    "#     labels_and_preds_df = <FILL IN>\n",
    "#     rmse_val_grid = calc_RMSE(<FILL IN>)\n",
    "#     print (rmse_val_grid)\n",
    "\n",
    "#     if rmse_val_grid < best_RMSE:\n",
    "#         best_RMSE = rmse_val_grid\n",
    "#         best_reg_param = reg\n",
    "#         best_model = model\n",
    "\n",
    "# rmse_val_LR_grid = best_RMSE\n",
    "\n",
    "# print (('Validation RMSE:\\n\\tBaseline = {0:.3f}\\n\\tLR0 = {1:.3f}\\n\\tLR1 = {2:.3f}\\n' +\n",
    "#        '\\tLRGrid = {3:.3f}').format(rmse_val_base, rmse_val_LR0, rmse_val_LR1, rmse_val_LR_grid))\n",
    "\n",
    "# YOUR CODE HERE\n",
    "raise NotImplementedError()\n"
   ]
  },
  {
   "cell_type": "code",
   "execution_count": null,
   "metadata": {
    "deletable": false,
    "editable": false,
    "nbgrader": {
     "cell_type": "code",
     "checksum": "033ca97536f77392d5bf3ccc2c452e4f",
     "grade": true,
     "grade_id": "test_bestRMSE",
     "locked": true,
     "points": 3,
     "schema_version": 3,
     "solution": false,
     "task": false
    }
   },
   "outputs": [],
   "source": [
    "# TEST Grid search (4d)\n",
    "assert_true(np.allclose(16.98706511744755, rmse_val_LR_grid), 'incorrect value for rmseValLRGrid')"
   ]
  },
  {
   "cell_type": "markdown",
   "metadata": {},
   "source": [
    "### Visualization 5: Best model's predictions\n",
    "\n",
    "Next, we create a visualization similar to 'Visualization 3: Predicted vs. actual' from Part 2 using the predictions from the best model from Part (4d) on the validation dataset.  Specifically, we create a color-coded scatter plot visualizing tuples storing i) the predicted value from this model and ii) true label."
   ]
  },
  {
   "cell_type": "code",
   "execution_count": null,
   "metadata": {},
   "outputs": [],
   "source": [
    "predictions = np.asarray(parsed_val_data_df.rdd\n",
    "                         .map(lambda lp: best_model.predict(lp.features))\n",
    "                         .collect())\n",
    "actual = np.asarray(parsed_val_data_df.rdd\n",
    "                    .map(lambda lp: lp.label)\n",
    "                    .collect())\n",
    "error = np.asarray(parsed_val_data_df.rdd\n",
    "                   .map(lambda lp: (lp.label, best_model.predict(lp.features)))\n",
    "                   .map( lambda lp: squared_error(lp))\n",
    "                   .collect())\n",
    "\n",
    "norm = Normalize()\n",
    "clrs = cmap(np.asarray(norm(error)))[:,0:3]\n",
    "\n",
    "fig, ax = prepare_plot(np.arange(0, 120, 20), np.arange(0, 120, 20))\n",
    "ax.set_xlim(15, 82), ax.set_ylim(-5, 105)\n",
    "plt.scatter(predictions, actual, s=14**2, c=clrs, edgecolors='#888888', alpha=0.75, linewidths=.5)\n",
    "ax.set_xlabel('Predicted'), ax.set_ylabel(r'Actual')\n",
    "display(fig) \n",
    "pass\n",
    "\n"
   ]
  },
  {
   "cell_type": "markdown",
   "metadata": {},
   "source": [
    "### Visualization 6: Hyperparameter heat map\n",
    "\n",
    "Next, we perform a visualization of hyperparameter search using a larger set of hyperparameters (with precomputed results).  Specifically, we create a heat map where the brighter colors correspond to lower RMSE values.  The first plot has a large area with brighter colors.  In order to differentiate within the bright region, we generate a second plot corresponding to the hyperparameters found within that region."
   ]
  },
  {
   "cell_type": "code",
   "execution_count": null,
   "metadata": {},
   "outputs": [],
   "source": [
    "from matplotlib.colors import LinearSegmentedColormap\n",
    "\n",
    "# Saved parameters and results, to save the time required to run 36 models\n",
    "numItersParams = [10, 50, 100, 250, 500, 1000]\n",
    "regParams = [1e-8, 1e-6, 1e-4, 1e-2, 1e-1, 1]\n",
    "rmseVal = np.array([[  20.36769649,   20.36770128,   20.36818057,   20.41795354,  21.09778437,  301.54258421],\n",
    "                    [  19.04948826,   19.0495    ,   19.05067418,   19.16517726,  19.97967727,   23.80077467],\n",
    "                    [  18.40149024,   18.40150998,   18.40348326,   18.59457491,  19.82155716,   23.80077467],\n",
    "                    [  17.5609346 ,   17.56096749,   17.56425511,   17.88442127,  19.71577117,   23.80077467],\n",
    "                    [  17.0171705 ,   17.01721288,   17.02145207,   17.44510574,  19.69124734,   23.80077467],\n",
    "                    [  16.58074813,   16.58079874,   16.58586512,   17.11466904,  19.6860931 ,   23.80077467]])\n",
    "\n",
    "numRows, numCols = len(numItersParams), len(regParams)\n",
    "rmseVal = np.array(rmseVal)\n",
    "rmseVal.shape = (numRows, numCols)\n",
    "\n",
    "fig, ax = prepare_plot(np.arange(0, numCols, 1), np.arange(0, numRows, 1), figsize=(8, 7), hideLabels=True,\n",
    "                      gridWidth=0.)\n",
    "ax.set_xticklabels(regParams), ax.set_yticklabels(numItersParams)\n",
    "ax.set_xlabel('Regularization Parameter'), ax.set_ylabel('Number of Iterations')\n",
    "\n",
    "colors = LinearSegmentedColormap.from_list('blue', ['#0022ff', '#000055'], gamma=.2)\n",
    "image = plt.imshow(rmseVal,interpolation='nearest', aspect='auto',\n",
    "                    cmap = colors)\n",
    "display(fig) "
   ]
  },
  {
   "cell_type": "code",
   "execution_count": null,
   "metadata": {},
   "outputs": [],
   "source": [
    "# Zoom into the bottom left\n",
    "numItersParamsZoom, regParamsZoom = numItersParams[-3:], regParams[:4]\n",
    "rmseValZoom = rmseVal[-3:, :4]\n",
    "\n",
    "numRows, numCols = len(numItersParamsZoom), len(regParamsZoom)\n",
    "\n",
    "fig, ax = prepare_plot(np.arange(0, numCols, 1), np.arange(0, numRows, 1), figsize=(8, 7), hideLabels=True,\n",
    "                      gridWidth=0.)\n",
    "ax.set_xticklabels(regParamsZoom), ax.set_yticklabels(numItersParamsZoom)\n",
    "ax.set_xlabel('Regularization Parameter'), ax.set_ylabel('Number of Iterations')\n",
    "\n",
    "colors = LinearSegmentedColormap.from_list('blue', ['#0022ff', '#000055'], gamma=.2)\n",
    "image = plt.imshow(rmseValZoom,interpolation='nearest', aspect='auto',\n",
    "                    cmap = colors)\n",
    "display(fig) \n",
    "pass"
   ]
  },
  {
   "cell_type": "markdown",
   "metadata": {},
   "source": [
    "## Part 5: Add interactions between features"
   ]
  },
  {
   "cell_type": "markdown",
   "metadata": {},
   "source": [
    "### (5a) Add 2-way interactions\n",
    "\n",
    "So far, we've used the features as they were provided.  Now, we will add features that capture the two-way interactions between our existing features.  Write a function `two_way_interactions` that takes in a `LabeledPoint` and generates a new `LabeledPoint` that contains the old features and the two-way interactions between them.\n",
    "\n",
    "> Note:\n",
    "> * A dataset with three features would have nine ( \\\\( \\scriptsize 3^2 \\\\) ) two-way interactions.\n",
    "> * You might want to use [itertools.product](https://docs.python.org/2/library/itertools.html#itertools.product) to generate tuples for each of the possible 2-way interactions.\n",
    "> * Remember that you can combine two `DenseVector` or `ndarray` objects using [np.hstack](http://docs.scipy.org/doc/numpy/reference/generated/numpy.hstack.html#numpy.hstack)."
   ]
  },
  {
   "cell_type": "code",
   "execution_count": null,
   "metadata": {
    "deletable": false,
    "nbgrader": {
     "cell_type": "code",
     "checksum": "a32680343ea54932f9e156ebf58e9b80",
     "grade": false,
     "grade_id": "twoWayInteractions",
     "locked": false,
     "schema_version": 3,
     "solution": true,
     "task": false
    }
   },
   "outputs": [],
   "source": [
    "# TODO: Uncomment the following lines and replace <FILL IN> with appropriate code\n",
    "import itertools\n",
    "\n",
    "def two_way_interactions(lp):\n",
    "    \"\"\"Creates a new `LabeledPoint` that includes two-way interactions.\n",
    "\n",
    "    Note:\n",
    "        For features [x, y] the two-way interactions would be [x^2, x*y, y*x, y^2] and these\n",
    "        would be appended to the original [x, y] feature list.\n",
    "\n",
    "    Args:\n",
    "        lp (LabeledPoint): The label and features for this observation.\n",
    "\n",
    "    Returns:\n",
    "        LabeledPoint: The new `LabeledPoint` should have the same label as `lp`.  Its features\n",
    "            should include the features from `lp` followed by the two-way interaction features.\n",
    "    \"\"\"\n",
    "    # return <FILL IN>\n",
    "    # YOUR CODE HERE\n",
    "    raise NotImplementedError()\n",
    "\n",
    "print (two_way_interactions(LabeledPoint(0.0, [2, 3])))\n",
    "\n",
    "# # Transform the existing train, validation, and test sets to include two-way interactions.\n",
    "# # Remember to convert them back to DataFrames at the end.\n",
    "# train_data_interact_df = <FILL IN>\n",
    "# val_data_interact_df = <FILL IN>\n",
    "# test_data_interact_df = <FILL IN>\n",
    "\n",
    "# YOUR CODE HERE\n",
    "raise NotImplementedError()\n"
   ]
  },
  {
   "cell_type": "code",
   "execution_count": null,
   "metadata": {
    "deletable": false,
    "editable": false,
    "nbgrader": {
     "cell_type": "code",
     "checksum": "4b551751df5d7f709104c054dff3ecea",
     "grade": true,
     "grade_id": "test_twoWayInteractions",
     "locked": true,
     "points": 3,
     "schema_version": 3,
     "solution": false,
     "task": false
    }
   },
   "outputs": [],
   "source": [
    "# TEST Add two-way interactions (5a)\n",
    "two_way_example = two_way_interactions(LabeledPoint(0.0, [2, 3]))\n",
    "\n",
    "assert_true(np.allclose(sorted(two_way_example.features),\n",
    "                            sorted([2.0, 3.0, 4.0, 6.0, 6.0, 9.0])),\n",
    "                'incorrect features generatedBy two_way_interactions')\n",
    "\n",
    "two_way_point = two_way_interactions(LabeledPoint(1.0, [1, 2, 3]))\n",
    "\n",
    "assert_true(np.allclose(sorted(two_way_point.features),\n",
    "                            sorted([1.0,2.0,3.0,1.0,2.0,3.0,2.0,4.0,6.0,3.0,6.0,9.0])),\n",
    "                'incorrect features generated by twoWayInteractions')\n",
    "\n",
    "\n",
    "assert_equal(two_way_point.label, 1.0, 'incorrect label generated by two_way_interactions')\n"
   ]
  },
  {
   "cell_type": "markdown",
   "metadata": {},
   "source": [
    "### (5b) Build interaction model\n",
    "\n",
    "Now, let's build the new model.  We've done this several times now.  To implement this for the new features, we need to change a few variable names.\n",
    "\n",
    " > Note:\n",
    " > * Remember that we should build our model from the training data and evaluate it on the validation data.\n",
    " > * You should re-run your hyperparameter search after changing features, as using the best hyperparameters from your prior model will not necessary lead to the best model.\n",
    " > * For this exercise, we have already preset the hyperparameters to reasonable values."
   ]
  },
  {
   "cell_type": "code",
   "execution_count": null,
   "metadata": {
    "deletable": false,
    "nbgrader": {
     "cell_type": "code",
     "checksum": "b6e986418931ef3eee0053d6627da795",
     "grade": false,
     "grade_id": "buildInteractionModel",
     "locked": false,
     "schema_version": 3,
     "solution": true,
     "task": false
    }
   },
   "outputs": [],
   "source": [
    "# TODO: Uncomment the following lines and replace <FILL IN> with appropriate code\n",
    "numIters = 500\n",
    "alpha = 1.0\n",
    "miniBatchFrac = 1.0\n",
    "reg = 1e-10\n",
    "\n",
    "\n",
    "# model_interact = LinearRegressionWithSGD.train(<FILL IN>)\n",
    "# labels_and_preds_interact = parsed_val_data_df.rdd.map(lambda lp: (lp.label, <FILL IN>))\n",
    "# labels_and_preds_interact_df = <FILL_IN>\n",
    "# rmse_val_interact = calc_RMSE(<FILL_IN>)\n",
    "\n",
    "# print (('Validation RMSE:\\n\\tBaseline = {0:.3f}\\n\\tLR0 = {1:.3f}\\n\\tLR1 = {2:.3f}\\n\\tLRGrid = ' +\n",
    "#        '{3:.3f}\\n\\tLRInteract = {4:.3f}').format(rmse_val_base, rmse_val_LR0, rmse_val_LR1,\n",
    "#                                                  rmse_val_LR_grid, rmse_val_interact))\n",
    "\n",
    "# YOUR CODE HERE\n",
    "raise NotImplementedError()\n"
   ]
  },
  {
   "cell_type": "code",
   "execution_count": null,
   "metadata": {
    "deletable": false,
    "editable": false,
    "nbgrader": {
     "cell_type": "code",
     "checksum": "2b822a9f1d6c0234136b394ce5f6caf2",
     "grade": true,
     "grade_id": "test_buildInteractionModel",
     "locked": true,
     "points": 2,
     "schema_version": 3,
     "solution": false,
     "task": false
    }
   },
   "outputs": [],
   "source": [
    "# TEST Build interaction model (5b)\n",
    "assert_true(np.allclose(rmse_val_interact, 15.821938371658007), 'incorrect value for rmse_val_interact')"
   ]
  },
  {
   "cell_type": "markdown",
   "metadata": {},
   "source": [
    "### (5c) Evaluate interaction model on test data\n",
    "\n",
    "Our next step is to evaluate the new model on the test dataset.  Note that we haven't used the test set to evaluate any of our models.  Because of this, our evaluation provides us with an unbiased estimate for how our model will perform on new data.  If we had changed our model based on viewing its performance on the test set, our estimate of RMSE would likely be overly optimistic.\n",
    "\n",
    "We'll also print the RMSE for both the baseline model and our new model.  With this information, we can see how much better our model performs than the baseline model."
   ]
  },
  {
   "cell_type": "code",
   "execution_count": null,
   "metadata": {
    "deletable": false,
    "nbgrader": {
     "cell_type": "code",
     "checksum": "6848d2fc667c54cd56e0a0469f3f1f2a",
     "grade": false,
     "grade_id": "evaluateInteractionModel",
     "locked": false,
     "schema_version": 3,
     "solution": true,
     "task": false
    }
   },
   "outputs": [],
   "source": [
    "# TODO: Uncomment following lines and replace <FILL IN> with appropriate code\n",
    "\n",
    "# labels_and_preds_interact_test = <FILL_IN>\n",
    "# labels_and_preds_interact_test_df = <FILL_IN>\n",
    "# rmse_test_interact = calc_RMSE(<FILL_IN>)\n",
    "\n",
    "# print (('Test RMSE:\\n\\tBaseline = {0:.3f}\\n\\tLRInteract = {1:.3f}'\n",
    "#        .format(rmse_test_base, rmse_test_interact)))\n",
    "\n",
    "# YOUR CODE HERE\n",
    "raise NotImplementedError()\n"
   ]
  },
  {
   "cell_type": "code",
   "execution_count": null,
   "metadata": {
    "deletable": false,
    "editable": false,
    "nbgrader": {
     "cell_type": "code",
     "checksum": "0a2524fa6c985001dac17b8a336f2c4c",
     "grade": true,
     "grade_id": "test_evaluateInteractionModel",
     "locked": true,
     "points": 2,
     "schema_version": 3,
     "solution": false,
     "task": false
    }
   },
   "outputs": [],
   "source": [
    "# TEST Evaluate interaction model on test data (5c)\n",
    "assert_true(np.allclose(rmse_test_interact, 16.09733809961526),\n",
    "                'incorrect value for rmse_test_interact')"
   ]
  },
  {
   "cell_type": "code",
   "execution_count": null,
   "metadata": {},
   "outputs": [],
   "source": []
  }
 ],
 "metadata": {
  "kernelspec": {
   "display_name": "Python 3",
   "language": "python",
   "name": "python3"
  },
  "language_info": {
   "codemirror_mode": {
    "name": "ipython",
    "version": 3
   },
   "file_extension": ".py",
   "mimetype": "text/x-python",
   "name": "python",
   "nbconvert_exporter": "python",
   "pygments_lexer": "ipython3",
   "version": "3.7.6"
  }
 },
 "nbformat": 4,
 "nbformat_minor": 4
}
